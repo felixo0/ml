{
 "cells": [
  {
   "cell_type": "code",
   "execution_count": 5,
   "metadata": {
    "collapsed": false,
    "deletable": true,
    "editable": true
   },
   "outputs": [],
   "source": [
    "from sklearn import cross_validation\n",
    "from sklearn import datasets\n",
    "from sklearn import metrics\n",
    "import tensorflow as tf\n",
    "\n",
    "layers = tf.contrib.layers\n",
    "learn = tf.contrib.learn"
   ]
  },
  {
   "cell_type": "code",
   "execution_count": 6,
   "metadata": {
    "collapsed": true
   },
   "outputs": [],
   "source": [
    "def my_model(features, target):\n",
    "    \"\"\"DNN with three hidden layers, and dropout of 0.1 probability\"\"\"\n",
    "    target = tf.one_hot(target, 3,1,0)\n",
    "    normalizer_fn = layers.dropout\n",
    "    normalizer_params = {'keep_prob': 0.9}\n",
    "    \n",
    "    features = layers.stack(\n",
    "        features,\n",
    "        layers.fully_connected,\n",
    "        [10, 20, 10],\n",
    "        normalizer_fn=normalizer_fn,\n",
    "        normalizer_params=normalizer_params)\n",
    "    \n",
    "    logits = layers.fully_connected(features, 3, activation_fn=None)\n",
    "    loss = tf.losses.softmax_cross_entropy(target, logits)\n",
    "\n",
    "    train_op = tf.contrib.layers.optimize_loss(\n",
    "        loss,\n",
    "        tf.contrib.framework.get_global_step(),\n",
    "        optimizer='Adagrad',\n",
    "        learning_rate=0.1)\n",
    "\n",
    "    return ({'class': tf.argmax(logits, 1), 'prob':tf.nn.softmax(logits)}, loss, train_op)\n",
    "\n",
    "    "
   ]
  },
  {
   "cell_type": "code",
   "execution_count": 7,
   "metadata": {
    "collapsed": false,
    "deletable": true,
    "editable": true,
    "scrolled": false
   },
   "outputs": [
    {
     "name": "stdout",
     "output_type": "stream",
     "text": [
      "WARNING:tensorflow:Using temporary folder as model directory: /tmp/tmpmkm2_jcx\n",
      "INFO:tensorflow:Using default config.\n",
      "INFO:tensorflow:Using config: {'_save_checkpoints_secs': 600, '_task_id': 0, '_keep_checkpoint_max': 5, '_evaluation_master': '', '_is_chief': True, '_save_checkpoints_steps': None, '_task_type': None, '_cluster_spec': <tensorflow.python.training.server_lib.ClusterSpec object at 0x7f93ec244ac8>, '_num_ps_replicas': 0, '_save_summary_steps': 100, '_keep_checkpoint_every_n_hours': 10000, '_tf_random_seed': None, '_tf_config': gpu_options {\n",
      "  per_process_gpu_memory_fraction: 1.0\n",
      "}\n",
      ", '_master': '', '_environment': 'local'}\n",
      "WARNING:tensorflow:From <ipython-input-7-a2345156ddc1>:7: calling BaseEstimator.fit (from tensorflow.contrib.learn.python.learn.estimators.estimator) with x is deprecated and will be removed after 2016-12-01.\n",
      "Instructions for updating:\n",
      "Estimator is decoupled from Scikit Learn interface by moving into\n",
      "separate class SKCompat. Arguments x, y and batch_size are only\n",
      "available in the SKCompat class, Estimator will only accept input_fn.\n",
      "Example conversion:\n",
      "  est = Estimator(...) -> est = SKCompat(Estimator(...))\n",
      "WARNING:tensorflow:From <ipython-input-7-a2345156ddc1>:7: calling BaseEstimator.fit (from tensorflow.contrib.learn.python.learn.estimators.estimator) with y is deprecated and will be removed after 2016-12-01.\n",
      "Instructions for updating:\n",
      "Estimator is decoupled from Scikit Learn interface by moving into\n",
      "separate class SKCompat. Arguments x, y and batch_size are only\n",
      "available in the SKCompat class, Estimator will only accept input_fn.\n",
      "Example conversion:\n",
      "  est = Estimator(...) -> est = SKCompat(Estimator(...))\n",
      "WARNING:tensorflow:float64 is not supported by many models, consider casting to float32.\n"
     ]
    },
    {
     "name": "stderr",
     "output_type": "stream",
     "text": [
      "/usr/local/lib/python3.5/dist-packages/tensorflow/python/util/deprecation.py:247: FutureWarning: comparison to `None` will result in an elementwise object comparison in the future.\n",
      "  equality = a == b\n"
     ]
    },
    {
     "name": "stdout",
     "output_type": "stream",
     "text": [
      "INFO:tensorflow:Create CheckpointSaverHook.\n",
      "INFO:tensorflow:Saving checkpoints for 1 into /tmp/tmpmkm2_jcx/model.ckpt.\n",
      "INFO:tensorflow:step = 1, loss = 1.4769872427\n",
      "INFO:tensorflow:global_step/sec: 158.895\n",
      "INFO:tensorflow:step = 101, loss = 0.274609029293\n",
      "INFO:tensorflow:global_step/sec: 123.978\n",
      "INFO:tensorflow:step = 201, loss = 0.189277201891\n",
      "INFO:tensorflow:global_step/sec: 115.37\n",
      "INFO:tensorflow:step = 301, loss = 0.125974282622\n",
      "INFO:tensorflow:global_step/sec: 156.789\n",
      "INFO:tensorflow:step = 401, loss = 0.125771015882\n",
      "INFO:tensorflow:global_step/sec: 161.632\n",
      "INFO:tensorflow:step = 501, loss = 0.123798057437\n",
      "INFO:tensorflow:global_step/sec: 126.81\n",
      "INFO:tensorflow:step = 601, loss = 0.142683699727\n",
      "INFO:tensorflow:global_step/sec: 125.427\n",
      "INFO:tensorflow:step = 701, loss = 0.104691363871\n",
      "INFO:tensorflow:global_step/sec: 162.436\n",
      "INFO:tensorflow:step = 801, loss = 0.111786730587\n",
      "INFO:tensorflow:global_step/sec: 139.099\n",
      "INFO:tensorflow:step = 901, loss = 0.0908519849181\n",
      "INFO:tensorflow:Saving checkpoints for 1000 into /tmp/tmpmkm2_jcx/model.ckpt.\n",
      "INFO:tensorflow:Loss for final step: 0.089936748147.\n",
      "WARNING:tensorflow:From <ipython-input-7-a2345156ddc1>:10: calling BaseEstimator.predict (from tensorflow.contrib.learn.python.learn.estimators.estimator) with x is deprecated and will be removed after 2016-12-01.\n",
      "Instructions for updating:\n",
      "Estimator is decoupled from Scikit Learn interface by moving into\n",
      "separate class SKCompat. Arguments x, y and batch_size are only\n",
      "available in the SKCompat class, Estimator will only accept input_fn.\n",
      "Example conversion:\n",
      "  est = Estimator(...) -> est = SKCompat(Estimator(...))\n",
      "WARNING:tensorflow:float64 is not supported by many models, consider casting to float32.\n",
      "Accuracy:0.966667\n"
     ]
    }
   ],
   "source": [
    "iris = datasets.load_iris()\n",
    "x_train, x_test, y_train, y_test = cross_validation.train_test_split(\n",
    "    iris.data, iris.target, test_size=0.2, random_state=42)\n",
    "\n",
    "\n",
    "classifier = learn.Estimator(model_fn=my_model)\n",
    "classifier.fit(x_train, y_train, steps=1000)\n",
    "\n",
    "y_predicted = [\n",
    "    p['class'] for p in classifier.predict(x_test, as_iterable=True)]\n",
    "score = metrics.accuracy_score(y_test, y_predicted)\n",
    "\n",
    "print('Accuracy:{0:f}'.format(score))"
   ]
  },
  {
   "cell_type": "code",
   "execution_count": null,
   "metadata": {
    "collapsed": true,
    "deletable": true,
    "editable": true
   },
   "outputs": [],
   "source": []
  }
 ],
 "metadata": {
  "kernelspec": {
   "display_name": "Python 3",
   "language": "python",
   "name": "python3"
  },
  "language_info": {
   "codemirror_mode": {
    "name": "ipython",
    "version": 3
   },
   "file_extension": ".py",
   "mimetype": "text/x-python",
   "name": "python",
   "nbconvert_exporter": "python",
   "pygments_lexer": "ipython3",
   "version": "3.5.2"
  }
 },
 "nbformat": 4,
 "nbformat_minor": 2
}
