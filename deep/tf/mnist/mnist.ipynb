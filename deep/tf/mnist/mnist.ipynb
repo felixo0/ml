{
 "cells": [
  {
   "cell_type": "code",
   "execution_count": null,
   "metadata": {
    "collapsed": true
   },
   "outputs": [],
   "source": [
    "import tensorflow as tf"
   ]
  },
  {
   "cell_type": "code",
   "execution_count": null,
   "metadata": {
    "collapsed": true
   },
   "outputs": [],
   "source": [
    "import numpy as np\n",
    "from sklearn import metrics\n"
   ]
  },
  {
   "cell_type": "code",
   "execution_count": 13,
   "metadata": {
    "collapsed": true
   },
   "outputs": [],
   "source": [
    "layers = tf.contrib.layers\n",
    "learn = tf.contrib.learn\n"
   ]
  },
  {
   "cell_type": "code",
   "execution_count": 28,
   "metadata": {
    "collapsed": true
   },
   "outputs": [],
   "source": [
    "def max_pool_2x2(tensor_in):\n",
    "    return tf.nn.max_pool(tensor_in, ksize=[1,2,2,1], strides=[1,2,2,1], padding='SAME')"
   ]
  },
  {
   "cell_type": "code",
   "execution_count": 49,
   "metadata": {
    "collapsed": true
   },
   "outputs": [],
   "source": [
    "def conv_model(feature, target, mode):\n",
    "    target = tf.one_hot(tf.cast(target, tf.int32),10, 1, 0)\n",
    "    feature = tf.reshape(feature, [-1, 28, 28, 1])\n",
    "    \n",
    "    with tf.variable_scope('conv_layer1'):\n",
    "        h_conv1 = layers.convolution2d(feature, 32, \n",
    "                                      kernel_size=[5,5], activation_fn = tf.nn.relu)\n",
    "        h_pool1 = max_pool_2x2(h_conv1)\n",
    "        \n",
    "    with tf.variable_scope('conv_layer2'):\n",
    "        h_conv2 = layers.convolution2d(h_pool1, 64, \n",
    "                                      kernel_size=[5,5],activation_fn = tf.nn.relu)\n",
    "        h_pool2 = max_pool_2x2(h_conv2)\n",
    "        h_pool2_flat = tf.reshape(h_pool2, [-1, 7 * 7 *64])\n",
    "    \n",
    "    h_fc1 = layers.dropout(\n",
    "        layers.fully_connected(\n",
    "            h_pool2_flat, 1024, activation_fn=tf.nn.relu),\n",
    "        keep_prob = 0.5,\n",
    "        is_training=mode == tf.contrib.learn.ModeKeys.TRAIN)\n",
    "    \n",
    "    logits = layers.fully_connected(h_fc1, 10, activation_fn=None)\n",
    "    loss = tf.contrib.losses.softmax_cross_entropy(logits,target)\n",
    "    \n",
    "    train_op = layers.optimize_loss(\n",
    "        loss,\n",
    "        tf.contrib.framework.get_global_step(),\n",
    "        optimizer = 'SGD',\n",
    "        learning_rate = 0.001)\n",
    "    return tf.argmax(logits, 1), loss, train_op\n"
   ]
  },
  {
   "cell_type": "code",
   "execution_count": null,
   "metadata": {
    "collapsed": true
   },
   "outputs": [],
   "source": [
    "def main(unused_args):\n",
    "    mnist = learn.datasets.load_dataset('mnist')\n",
    "    \n",
    "    feature_columns = learn.infer_real_valued_columns_from_input(mnist.train.images)\n",
    "    classifier = learn.LinearClassifier(\n",
    "        feature_columns=feature_columns, n_classes=10)\n",
    "    \n",
    "    classifier.fit(mnist.train.images, mnist.train.labels.astype(np.int32),\n",
    "                   batch_size=100, steps=1000)\n",
    "    score = metrics.accuracy_score(mnist.test.labels, \n",
    "                                  list(classifier.predict(mnist.test.images)))\n",
    "    \n",
    "    print('Accuracy: {0:f}'.format(score))\n",
    "    \n",
    "    \n",
    "    classifier = learn.Estimator(model_fn = conv_model)\n",
    "    classifier.fit(mnist.train.images, mnist.train.labels,\n",
    "                  batch_size = 100, steps = 20000)\n",
    "    score = metrics.accuracy_score(mnist.test.labels,\n",
    "                                  list(classifier.predict(mnist.test.images)))\n",
    "    \n",
    "    print('Accuracy: {0:f}'.format(score))"
   ]
  },
  {
   "cell_type": "code",
   "execution_count": null,
   "metadata": {
    "collapsed": false
   },
   "outputs": [],
   "source": [
    "tf.app.run()"
   ]
  },
  {
   "cell_type": "code",
   "execution_count": null,
   "metadata": {
    "collapsed": false
   },
   "outputs": [],
   "source": [
    "print(tf.__version__)"
   ]
  },
  {
   "cell_type": "code",
   "execution_count": null,
   "metadata": {
    "collapsed": true
   },
   "outputs": [],
   "source": []
  }
 ],
 "metadata": {
  "kernelspec": {
   "display_name": "Python 3",
   "language": "python",
   "name": "python3"
  },
  "language_info": {
   "codemirror_mode": {
    "name": "ipython",
    "version": 3
   },
   "file_extension": ".py",
   "mimetype": "text/x-python",
   "name": "python",
   "nbconvert_exporter": "python",
   "pygments_lexer": "ipython3",
   "version": "3.5.2"
  }
 },
 "nbformat": 4,
 "nbformat_minor": 2
}
