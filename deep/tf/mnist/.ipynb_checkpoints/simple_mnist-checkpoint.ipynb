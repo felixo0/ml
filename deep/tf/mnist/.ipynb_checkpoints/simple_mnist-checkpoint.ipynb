{
 "cells": [
  {
   "cell_type": "code",
   "execution_count": 1,
   "metadata": {
    "collapsed": false,
    "deletable": true,
    "editable": true
   },
   "outputs": [],
   "source": [
    "from __future__ import absolute_import\n",
    "from __future__ import division\n",
    "from __future__ import print_function\n",
    "\n",
    "import numpy as np\n",
    "from sklearn import metrics\n",
    "import tensorflow as tf"
   ]
  },
  {
   "cell_type": "code",
   "execution_count": 2,
   "metadata": {
    "collapsed": true
   },
   "outputs": [],
   "source": [
    "layers = tf.contrib.layers\n",
    "learn = tf.contrib.learn"
   ]
  },
  {
   "cell_type": "code",
   "execution_count": 3,
   "metadata": {
    "collapsed": true
   },
   "outputs": [],
   "source": [
    "def max_pool_2x2(tensor_in):\n",
    "    return tf.nn.max_pool(\n",
    "        tensor_in, ksize=[1,2,2,1], strides=[1,2,2,1], padding='SAME')"
   ]
  },
  {
   "cell_type": "code",
   "execution_count": 5,
   "metadata": {
    "collapsed": true
   },
   "outputs": [],
   "source": [
    "def conv_model(feature, target, mode):\n",
    "    \"\"\"2-layer convolution model.\"\"\"\n",
    "    target = tf.one_hot(tf.cast(target, tf.int32), 10, 1, 0)\n",
    "    feature = tf.reshape(feature, [-1, 28, 28, 1])\n",
    "    with tf.variabale_score('conv_layer1'):\n",
    "        h_conv1 = layers.convolution2d(\n",
    "            feature, 32, kernel_size[5,5], activation_fn=tf.nn.relu)\n",
    "        h_pool1 = max_pool_2x2(h_conv1)\n",
    "    \n",
    "    with tf.variable_scope('conv_layer2'):\n",
    "        h_conv2 = layers.convolution2d(\n",
    "            h_pool1, 64, kernel_size = [5,5], activation_fn=tf.nn.relu)\n",
    "        h_pool2 = max_pool_2x2(h_conv2)\n",
    "        h_pool2_flat = tf.reshape(h_pool2, [-1, 7*7*64])\n",
    "    \n",
    "    h_fc1 = layers.dropout(\n",
    "        layers.fully_connected(\n",
    "            h_pool2_flat, 1024, activation_fn=tf.nn.relu),\n",
    "        keep_prob=0.5,\n",
    "        is_training = (mode==tf.contrib.learn.ModeKeys.TRAIN)\n",
    "        )\n",
    "    \n",
    "    logits = layers.fully_connected(h_fc1, 10, activation_fn=None)\n",
    "    loss = tf.losses.softmax_cross_entropy(target, logits)\n",
    "    \n",
    "    train_op = layers.optimize_loss(\n",
    "        loss,\n",
    "        tf.contrib.framework.get_global_step(),\n",
    "        optimizer='SGD',\n",
    "        learning_rate=0.001)\n",
    "    \n",
    "    return tf.argmax(logits, 1), loss, train_op"
   ]
  },
  {
   "cell_type": "code",
   "execution_count": null,
   "metadata": {
    "collapsed": true
   },
   "outputs": [],
   "source": [
    "def main(unused_args):\n",
    "    # Download and load MNIST dataset\n",
    "    mnist = learn.datasets.load_dataset('mnist')\n",
    "    \n",
    "    # Linear classifier\n",
    "    feature_columns = "
   ]
  }
 ],
 "metadata": {
  "kernelspec": {
   "display_name": "Python 3",
   "language": "python",
   "name": "python3"
  },
  "language_info": {
   "codemirror_mode": {
    "name": "ipython",
    "version": 3
   },
   "file_extension": ".py",
   "mimetype": "text/x-python",
   "name": "python",
   "nbconvert_exporter": "python",
   "pygments_lexer": "ipython3",
   "version": "3.5.2"
  }
 },
 "nbformat": 4,
 "nbformat_minor": 2
}
