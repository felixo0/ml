{
 "cells": [
  {
   "cell_type": "code",
   "execution_count": 2,
   "metadata": {
    "collapsed": true
   },
   "outputs": [],
   "source": [
    "import pandas as pd\n",
    "import seaborn as sns\n",
    "import numpy as np\n",
    "import matplotlib.pyplot as plt\n",
    "%matplotlib inline\n",
    "from sklearn import tree"
   ]
  },
  {
   "cell_type": "code",
   "execution_count": 8,
   "metadata": {
    "collapsed": true
   },
   "outputs": [],
   "source": [
    "a=np.array([[1,5],[2,2], [3,4], [4,6],[5,3]])"
   ]
  },
  {
   "cell_type": "code",
   "execution_count": 9,
   "metadata": {
    "collapsed": false
   },
   "outputs": [
    {
     "data": {
      "text/plain": [
       "array([[1, 5],\n",
       "       [2, 2],\n",
       "       [3, 4],\n",
       "       [4, 6],\n",
       "       [5, 3]])"
      ]
     },
     "execution_count": 9,
     "metadata": {},
     "output_type": "execute_result"
    }
   ],
   "source": [
    "a"
   ]
  },
  {
   "cell_type": "code",
   "execution_count": 10,
   "metadata": {
    "collapsed": false
   },
   "outputs": [
    {
     "data": {
      "text/plain": [
       "array([1, 2, 3, 4, 5])"
      ]
     },
     "execution_count": 10,
     "metadata": {},
     "output_type": "execute_result"
    }
   ],
   "source": [
    "a[:,0]"
   ]
  },
  {
   "cell_type": "code",
   "execution_count": 11,
   "metadata": {
    "collapsed": false
   },
   "outputs": [
    {
     "data": {
      "image/png": "[encoded data removed]",
      "text/plain": [
       "<matplotlib.figure.Figure at 0x10da46f60>"
      ]
     },
     "metadata": {},
     "output_type": "display_data"
    }
   ],
   "source": [
    "#basic   \n",
    "plt.plot(a[:,0],a[:,1])\n",
    "plt.show()"
   ]
  },
  {
   "cell_type": "code",
   "execution_count": 14,
   "metadata": {
    "collapsed": true
   },
   "outputs": [],
   "source": [
    "book = pd.read_csv(\"/Users/page/data/book/newbook.csv\")"
   ]
  },
  {
   "cell_type": "code",
   "execution_count": 15,
   "metadata": {
    "collapsed": false
   },
   "outputs": [
    {
     "data": {
      "text/html": [
       "<div>\n",
       "<table border=\"1\" class=\"dataframe\">\n",
       "  <thead>\n",
       "    <tr style=\"text-align: right;\">\n",
       "      <th></th>\n",
       "      <th>id</th>\n",
       "      <th>CBS_Class</th>\n",
       "      <th>CBS_MY_Order</th>\n",
       "      <th>CBS_MY_Rate</th>\n",
       "      <th>CBS_XS_MY</th>\n",
       "      <th>CBS_DXPZ</th>\n",
       "      <th>CBS_XSCS</th>\n",
       "      <th>CBS_CRTAX</th>\n",
       "      <th>Book_Class</th>\n",
       "      <th>CBS_BK_Average_price</th>\n",
       "      <th>...</th>\n",
       "      <th>FXS_Class</th>\n",
       "      <th>User_Area</th>\n",
       "      <th>User_Get_Price</th>\n",
       "      <th>FXS_Discount</th>\n",
       "      <th>FXS_BK_MY_Order</th>\n",
       "      <th>FXS_BK_MY_Rate</th>\n",
       "      <th>FXS_BK_MY</th>\n",
       "      <th>FXS_BK_DXPZ</th>\n",
       "      <th>FXS_BK_XSCS</th>\n",
       "      <th>FXS_BK_Average_Price</th>\n",
       "    </tr>\n",
       "  </thead>\n",
       "  <tbody>\n",
       "    <tr>\n",
       "      <th>0</th>\n",
       "      <td>0</td>\n",
       "      <td>1</td>\n",
       "      <td>11</td>\n",
       "      <td>1.0934</td>\n",
       "      <td>90678033.8</td>\n",
       "      <td>2921</td>\n",
       "      <td>2357742</td>\n",
       "      <td>0.07</td>\n",
       "      <td>1</td>\n",
       "      <td>34.83</td>\n",
       "      <td>...</td>\n",
       "      <td>3</td>\n",
       "      <td>2</td>\n",
       "      <td>9</td>\n",
       "      <td>0.585</td>\n",
       "      <td>2</td>\n",
       "      <td>3.4196</td>\n",
       "      <td>15289978.1</td>\n",
       "      <td>1579</td>\n",
       "      <td>426206</td>\n",
       "      <td>35.87</td>\n",
       "    </tr>\n",
       "    <tr>\n",
       "      <th>1</th>\n",
       "      <td>1</td>\n",
       "      <td>1</td>\n",
       "      <td>11</td>\n",
       "      <td>1.0934</td>\n",
       "      <td>90678033.8</td>\n",
       "      <td>2921</td>\n",
       "      <td>2357742</td>\n",
       "      <td>0.07</td>\n",
       "      <td>6</td>\n",
       "      <td>17.75</td>\n",
       "      <td>...</td>\n",
       "      <td>3</td>\n",
       "      <td>2</td>\n",
       "      <td>9</td>\n",
       "      <td>0.585</td>\n",
       "      <td>484</td>\n",
       "      <td>0.0000</td>\n",
       "      <td>36.0</td>\n",
       "      <td>1</td>\n",
       "      <td>2</td>\n",
       "      <td>18.00</td>\n",
       "    </tr>\n",
       "    <tr>\n",
       "      <th>2</th>\n",
       "      <td>2</td>\n",
       "      <td>1</td>\n",
       "      <td>11</td>\n",
       "      <td>1.0934</td>\n",
       "      <td>90678033.8</td>\n",
       "      <td>2921</td>\n",
       "      <td>2357742</td>\n",
       "      <td>0.08</td>\n",
       "      <td>5</td>\n",
       "      <td>32.51</td>\n",
       "      <td>...</td>\n",
       "      <td>3</td>\n",
       "      <td>2</td>\n",
       "      <td>9</td>\n",
       "      <td>0.585</td>\n",
       "      <td>235</td>\n",
       "      <td>0.0099</td>\n",
       "      <td>15346.0</td>\n",
       "      <td>7</td>\n",
       "      <td>478</td>\n",
       "      <td>32.10</td>\n",
       "    </tr>\n",
       "    <tr>\n",
       "      <th>3</th>\n",
       "      <td>3</td>\n",
       "      <td>1</td>\n",
       "      <td>11</td>\n",
       "      <td>1.0934</td>\n",
       "      <td>90678033.8</td>\n",
       "      <td>2921</td>\n",
       "      <td>2357742</td>\n",
       "      <td>0.07</td>\n",
       "      <td>3</td>\n",
       "      <td>47.25</td>\n",
       "      <td>...</td>\n",
       "      <td>3</td>\n",
       "      <td>2</td>\n",
       "      <td>9</td>\n",
       "      <td>0.585</td>\n",
       "      <td>3</td>\n",
       "      <td>3.1915</td>\n",
       "      <td>10890168.2</td>\n",
       "      <td>405</td>\n",
       "      <td>232732</td>\n",
       "      <td>46.79</td>\n",
       "    </tr>\n",
       "    <tr>\n",
       "      <th>4</th>\n",
       "      <td>4</td>\n",
       "      <td>1</td>\n",
       "      <td>11</td>\n",
       "      <td>1.0934</td>\n",
       "      <td>90678033.8</td>\n",
       "      <td>2921</td>\n",
       "      <td>2357742</td>\n",
       "      <td>0.08</td>\n",
       "      <td>7</td>\n",
       "      <td>60.70</td>\n",
       "      <td>...</td>\n",
       "      <td>3</td>\n",
       "      <td>2</td>\n",
       "      <td>9</td>\n",
       "      <td>0.585</td>\n",
       "      <td>181</td>\n",
       "      <td>0.0240</td>\n",
       "      <td>59391.0</td>\n",
       "      <td>21</td>\n",
       "      <td>1022</td>\n",
       "      <td>58.11</td>\n",
       "    </tr>\n",
       "  </tbody>\n",
       "</table>\n",
       "<p>5 rows × 25 columns</p>\n",
       "</div>"
      ],
      "text/plain": [
       "   id  CBS_Class  CBS_MY_Order  CBS_MY_Rate   CBS_XS_MY  CBS_DXPZ  CBS_XSCS  \\\n",
       "0   0          1            11       1.0934  90678033.8      2921   2357742   \n",
       "1   1          1            11       1.0934  90678033.8      2921   2357742   \n",
       "2   2          1            11       1.0934  90678033.8      2921   2357742   \n",
       "3   3          1            11       1.0934  90678033.8      2921   2357742   \n",
       "4   4          1            11       1.0934  90678033.8      2921   2357742   \n",
       "\n",
       "   CBS_CRTAX  Book_Class  CBS_BK_Average_price          ...           \\\n",
       "0       0.07           1                 34.83          ...            \n",
       "1       0.07           6                 17.75          ...            \n",
       "2       0.08           5                 32.51          ...            \n",
       "3       0.07           3                 47.25          ...            \n",
       "4       0.08           7                 60.70          ...            \n",
       "\n",
       "   FXS_Class  User_Area  User_Get_Price  FXS_Discount  FXS_BK_MY_Order  \\\n",
       "0          3          2               9         0.585                2   \n",
       "1          3          2               9         0.585              484   \n",
       "2          3          2               9         0.585              235   \n",
       "3          3          2               9         0.585                3   \n",
       "4          3          2               9         0.585              181   \n",
       "\n",
       "   FXS_BK_MY_Rate   FXS_BK_MY  FXS_BK_DXPZ  FXS_BK_XSCS  FXS_BK_Average_Price  \n",
       "0          3.4196  15289978.1         1579       426206                 35.87  \n",
       "1          0.0000        36.0            1            2                 18.00  \n",
       "2          0.0099     15346.0            7          478                 32.10  \n",
       "3          3.1915  10890168.2          405       232732                 46.79  \n",
       "4          0.0240     59391.0           21         1022                 58.11  \n",
       "\n",
       "[5 rows x 25 columns]"
      ]
     },
     "execution_count": 15,
     "metadata": {},
     "output_type": "execute_result"
    }
   ],
   "source": [
    "book.head()"
   ]
  },
  {
   "cell_type": "code",
   "execution_count": 16,
   "metadata": {
    "collapsed": true
   },
   "outputs": [],
   "source": [
    "y = book[['CBS_BK_XSCS']]"
   ]
  },
  {
   "cell_type": "code",
   "execution_count": 17,
   "metadata": {
    "collapsed": false
   },
   "outputs": [
    {
     "data": {
      "image/png": "[encoded data removed]",
      "text/plain": [
       "<matplotlib.figure.Figure at 0x10dab3b70>"
      ]
     },
     "metadata": {},
     "output_type": "display_data"
    }
   ],
   "source": [
    "plt.plot(book[['id']],book[['CBS_BK_XSCS']])\n",
    "plt.show()"
   ]
  },
  {
   "cell_type": "code",
   "execution_count": null,
   "metadata": {
    "collapsed": true
   },
   "outputs": [],
   "source": []
  }
 ],
 "metadata": {
  "kernelspec": {
   "display_name": "Python 3",
   "language": "python",
   "name": "python3"
  },
  "language_info": {
   "codemirror_mode": {
    "name": "ipython",
    "version": 3
   },
   "file_extension": ".py",
   "mimetype": "text/x-python",
   "name": "python",
   "nbconvert_exporter": "python",
   "pygments_lexer": "ipython3",
   "version": "3.5.2"
  }
 },
 "nbformat": 4,
 "nbformat_minor": 2
}
