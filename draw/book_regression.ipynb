{
 "cells": [
  {
   "cell_type": "code",
   "execution_count": 16,
   "metadata": {
    "collapsed": true,
    "deletable": true,
    "editable": true
   },
   "outputs": [],
   "source": [
    "#读取excel\n",
    "import pandas as pd\n",
    "# 行列式、矩阵处理\n",
    "import numpy as np\n",
    "#画图\n",
    "import seaborn as sns\n",
    "import matplotlib.pyplot as plt\n",
    "#树\n",
    "from sklearn import tree\n",
    "#导入机器学习linear_model库\n",
    "from sklearn import linear_model\n",
    "#导入交叉验证库\n",
    "from sklearn import cross_validation\n",
    "\n",
    "from sklearn.linear_model import LinearRegression\n",
    "\n",
    "# 在代码中画图\n",
    "%matplotlib inline"
   ]
  },
  {
   "cell_type": "code",
   "execution_count": 17,
   "metadata": {
    "collapsed": true,
    "deletable": true,
    "editable": true
   },
   "outputs": [],
   "source": [
    "#载入Excel 文件\n",
    "book = pd.read_csv(\"/Users/page/data/book/newbook.csv\")"
   ]
  },
  {
   "cell_type": "code",
   "execution_count": 18,
   "metadata": {
    "collapsed": false,
    "deletable": true,
    "editable": true
   },
   "outputs": [
    {
     "data": {
      "text/html": [
       "<div>\n",
       "<table border=\"1\" class=\"dataframe\">\n",
       "  <thead>\n",
       "    <tr style=\"text-align: right;\">\n",
       "      <th></th>\n",
       "      <th>id</th>\n",
       "      <th>CBS_Class</th>\n",
       "      <th>CBS_MY_Order</th>\n",
       "      <th>CBS_MY_Rate</th>\n",
       "      <th>CBS_XS_MY</th>\n",
       "      <th>CBS_DXPZ</th>\n",
       "      <th>CBS_XSCS</th>\n",
       "      <th>CBS_CRTAX</th>\n",
       "      <th>Book_Class</th>\n",
       "      <th>CBS_BK_Average_price</th>\n",
       "      <th>...</th>\n",
       "      <th>FXS_Class</th>\n",
       "      <th>User_Area</th>\n",
       "      <th>User_Get_Price</th>\n",
       "      <th>FXS_Discount</th>\n",
       "      <th>FXS_BK_MY_Order</th>\n",
       "      <th>FXS_BK_MY_Rate</th>\n",
       "      <th>FXS_BK_MY</th>\n",
       "      <th>FXS_BK_DXPZ</th>\n",
       "      <th>FXS_BK_XSCS</th>\n",
       "      <th>FXS_BK_Average_Price</th>\n",
       "    </tr>\n",
       "  </thead>\n",
       "  <tbody>\n",
       "    <tr>\n",
       "      <th>0</th>\n",
       "      <td>0</td>\n",
       "      <td>1</td>\n",
       "      <td>11</td>\n",
       "      <td>1.0934</td>\n",
       "      <td>90678033.8</td>\n",
       "      <td>2921</td>\n",
       "      <td>2357742</td>\n",
       "      <td>0.07</td>\n",
       "      <td>1</td>\n",
       "      <td>34.83</td>\n",
       "      <td>...</td>\n",
       "      <td>3</td>\n",
       "      <td>2</td>\n",
       "      <td>9</td>\n",
       "      <td>0.585</td>\n",
       "      <td>2</td>\n",
       "      <td>3.4196</td>\n",
       "      <td>15289978.1</td>\n",
       "      <td>1579</td>\n",
       "      <td>426206</td>\n",
       "      <td>35.87</td>\n",
       "    </tr>\n",
       "    <tr>\n",
       "      <th>1</th>\n",
       "      <td>1</td>\n",
       "      <td>1</td>\n",
       "      <td>11</td>\n",
       "      <td>1.0934</td>\n",
       "      <td>90678033.8</td>\n",
       "      <td>2921</td>\n",
       "      <td>2357742</td>\n",
       "      <td>0.07</td>\n",
       "      <td>6</td>\n",
       "      <td>17.75</td>\n",
       "      <td>...</td>\n",
       "      <td>3</td>\n",
       "      <td>2</td>\n",
       "      <td>9</td>\n",
       "      <td>0.585</td>\n",
       "      <td>484</td>\n",
       "      <td>0.0000</td>\n",
       "      <td>36.0</td>\n",
       "      <td>1</td>\n",
       "      <td>2</td>\n",
       "      <td>18.00</td>\n",
       "    </tr>\n",
       "    <tr>\n",
       "      <th>2</th>\n",
       "      <td>2</td>\n",
       "      <td>1</td>\n",
       "      <td>11</td>\n",
       "      <td>1.0934</td>\n",
       "      <td>90678033.8</td>\n",
       "      <td>2921</td>\n",
       "      <td>2357742</td>\n",
       "      <td>0.08</td>\n",
       "      <td>5</td>\n",
       "      <td>32.51</td>\n",
       "      <td>...</td>\n",
       "      <td>3</td>\n",
       "      <td>2</td>\n",
       "      <td>9</td>\n",
       "      <td>0.585</td>\n",
       "      <td>235</td>\n",
       "      <td>0.0099</td>\n",
       "      <td>15346.0</td>\n",
       "      <td>7</td>\n",
       "      <td>478</td>\n",
       "      <td>32.10</td>\n",
       "    </tr>\n",
       "    <tr>\n",
       "      <th>3</th>\n",
       "      <td>3</td>\n",
       "      <td>1</td>\n",
       "      <td>11</td>\n",
       "      <td>1.0934</td>\n",
       "      <td>90678033.8</td>\n",
       "      <td>2921</td>\n",
       "      <td>2357742</td>\n",
       "      <td>0.07</td>\n",
       "      <td>3</td>\n",
       "      <td>47.25</td>\n",
       "      <td>...</td>\n",
       "      <td>3</td>\n",
       "      <td>2</td>\n",
       "      <td>9</td>\n",
       "      <td>0.585</td>\n",
       "      <td>3</td>\n",
       "      <td>3.1915</td>\n",
       "      <td>10890168.2</td>\n",
       "      <td>405</td>\n",
       "      <td>232732</td>\n",
       "      <td>46.79</td>\n",
       "    </tr>\n",
       "    <tr>\n",
       "      <th>4</th>\n",
       "      <td>4</td>\n",
       "      <td>1</td>\n",
       "      <td>11</td>\n",
       "      <td>1.0934</td>\n",
       "      <td>90678033.8</td>\n",
       "      <td>2921</td>\n",
       "      <td>2357742</td>\n",
       "      <td>0.08</td>\n",
       "      <td>7</td>\n",
       "      <td>60.70</td>\n",
       "      <td>...</td>\n",
       "      <td>3</td>\n",
       "      <td>2</td>\n",
       "      <td>9</td>\n",
       "      <td>0.585</td>\n",
       "      <td>181</td>\n",
       "      <td>0.0240</td>\n",
       "      <td>59391.0</td>\n",
       "      <td>21</td>\n",
       "      <td>1022</td>\n",
       "      <td>58.11</td>\n",
       "    </tr>\n",
       "  </tbody>\n",
       "</table>\n",
       "<p>5 rows × 25 columns</p>\n",
       "</div>"
      ],
      "text/plain": [
       "   id  CBS_Class  CBS_MY_Order  CBS_MY_Rate   CBS_XS_MY  CBS_DXPZ  CBS_XSCS  \\\n",
       "0   0          1            11       1.0934  90678033.8      2921   2357742   \n",
       "1   1          1            11       1.0934  90678033.8      2921   2357742   \n",
       "2   2          1            11       1.0934  90678033.8      2921   2357742   \n",
       "3   3          1            11       1.0934  90678033.8      2921   2357742   \n",
       "4   4          1            11       1.0934  90678033.8      2921   2357742   \n",
       "\n",
       "   CBS_CRTAX  Book_Class  CBS_BK_Average_price          ...           \\\n",
       "0       0.07           1                 34.83          ...            \n",
       "1       0.07           6                 17.75          ...            \n",
       "2       0.08           5                 32.51          ...            \n",
       "3       0.07           3                 47.25          ...            \n",
       "4       0.08           7                 60.70          ...            \n",
       "\n",
       "   FXS_Class  User_Area  User_Get_Price  FXS_Discount  FXS_BK_MY_Order  \\\n",
       "0          3          2               9         0.585                2   \n",
       "1          3          2               9         0.585              484   \n",
       "2          3          2               9         0.585              235   \n",
       "3          3          2               9         0.585                3   \n",
       "4          3          2               9         0.585              181   \n",
       "\n",
       "   FXS_BK_MY_Rate   FXS_BK_MY  FXS_BK_DXPZ  FXS_BK_XSCS  FXS_BK_Average_Price  \n",
       "0          3.4196  15289978.1         1579       426206                 35.87  \n",
       "1          0.0000        36.0            1            2                 18.00  \n",
       "2          0.0099     15346.0            7          478                 32.10  \n",
       "3          3.1915  10890168.2          405       232732                 46.79  \n",
       "4          0.0240     59391.0           21         1022                 58.11  \n",
       "\n",
       "[5 rows x 25 columns]"
      ]
     },
     "execution_count": 18,
     "metadata": {},
     "output_type": "execute_result"
    }
   ],
   "source": [
    "book.head()"
   ]
  },
  {
   "cell_type": "code",
   "execution_count": 48,
   "metadata": {
    "collapsed": false,
    "deletable": true,
    "editable": true
   },
   "outputs": [],
   "source": [
    "X = book[['CBS_XS_MY', 'CBS_DXPZ', 'CBS_XSCS', 'CBS_CRTAX',\n",
    "       'CBS_BK_Average_price', 'CBS_BK_MY_Order', 'CBS_BK_MY_Rate',\n",
    "        'CBS_BK_DXPZ','User_Area',\n",
    "       'User_Get_Price', 'FXS_Discount', 'FXS_BK_MY_Order', 'FXS_BK_MY_Rate',\n",
    "       'FXS_BK_MY', 'FXS_BK_DXPZ', 'FXS_BK_XSCS', 'FXS_BK_Average_Price']]\n",
    "y = book[['CBS_BK_XSCS']]"
   ]
  },
  {
   "cell_type": "code",
   "execution_count": 49,
   "metadata": {
    "collapsed": false,
    "deletable": true,
    "editable": true
   },
   "outputs": [],
   "source": [
    "X_train, X_test, y_train, y_test = cross_validation.train_test_split(X, y, random_state=1)"
   ]
  },
  {
   "cell_type": "code",
   "execution_count": 50,
   "metadata": {
    "collapsed": false,
    "deletable": true,
    "editable": true
   },
   "outputs": [
    {
     "name": "stdout",
     "output_type": "stream",
     "text": [
      "(3075, 17)\n",
      "(1025, 17)\n",
      "(3075, 1)\n",
      "(1025, 1)\n"
     ]
    }
   ],
   "source": [
    "print(X_train.shape)\n",
    "print(X_test.shape)\n",
    "print(y_train.shape)\n",
    "print(y_test.shape)"
   ]
  },
  {
   "cell_type": "code",
   "execution_count": 51,
   "metadata": {
    "collapsed": false,
    "deletable": true,
    "editable": true
   },
   "outputs": [
    {
     "data": {
      "text/plain": [
       "LinearRegression(copy_X=True, fit_intercept=True, n_jobs=1, normalize=False)"
      ]
     },
     "execution_count": 51,
     "metadata": {},
     "output_type": "execute_result"
    }
   ],
   "source": [
    "linreg = LinearRegression()\n",
    "linreg.fit(X_train, y_train)"
   ]
  },
  {
   "cell_type": "code",
   "execution_count": 52,
   "metadata": {
    "collapsed": false,
    "deletable": true,
    "editable": true
   },
   "outputs": [
    {
     "name": "stdout",
     "output_type": "stream",
     "text": [
      "[ 2061672.57951014]\n",
      "[[ -1.53065544e-03  -1.80412333e+01   8.42300949e-02  -1.63650209e+07\n",
      "   -3.72571214e+02  -1.23505214e+03   7.56822778e+04   2.12917065e+02\n",
      "    6.17699470e+04  -7.66676696e-07  -1.41161113e+06   3.98363644e+02\n",
      "   -4.37693497e+04   2.64393136e-02  -2.28197649e+02   2.19349693e+00\n",
      "    7.79030775e+00]]\n"
     ]
    }
   ],
   "source": [
    "print(linreg.intercept_)\n",
    "print (linreg.coef_)"
   ]
  },
  {
   "cell_type": "code",
   "execution_count": 53,
   "metadata": {
    "collapsed": false,
    "deletable": true,
    "editable": true
   },
   "outputs": [
    {
     "name": "stdout",
     "output_type": "stream",
     "text": [
      "MSE: 329883486958.0\n",
      "RMSE: 574354.844115\n"
     ]
    }
   ],
   "source": [
    "#模型拟合测试集\n",
    "y_pred = linreg.predict(X_test)\n",
    "from sklearn import metrics\n",
    "# 用scikit-learn计算MSE\n",
    "print(\"MSE:\",metrics.mean_squared_error(y_test, y_pred))\n",
    "# 用scikit-learn计算RMSE\n",
    "print(\"RMSE:\",np.sqrt(metrics.mean_squared_error(y_test, y_pred)))"
   ]
  },
  {
   "cell_type": "code",
   "execution_count": 54,
   "metadata": {
    "collapsed": false,
    "deletable": true,
    "editable": true
   },
   "outputs": [
    {
     "name": "stdout",
     "output_type": "stream",
     "text": [
      "MSE: 377873942163.0\n",
      "RMSE: 614714.520866\n"
     ]
    }
   ],
   "source": [
    "\n",
    "from sklearn.model_selection import cross_val_predict\n",
    "predicted = cross_val_predict(linreg, X, y, cv=10)\n",
    "# 用scikit-learn计算MSE\n",
    "print(\"MSE:\",metrics.mean_squared_error(y, predicted))\n",
    "# 用scikit-learn计算RMSE\n",
    "print(\"RMSE:\",np.sqrt(metrics.mean_squared_error(y, predicted)))"
   ]
  },
  {
   "cell_type": "code",
   "execution_count": 55,
   "metadata": {
    "collapsed": false,
    "deletable": true,
    "editable": true
   },
   "outputs": [
    {
     "data": {
      "image/png": "[encoded data removed]",
      "text/plain": [
       "<matplotlib.figure.Figure at 0x10e05e9e8>"
      ]
     },
     "metadata": {},
     "output_type": "display_data"
    }
   ],
   "source": [
    "fig, ax = plt.subplots()\n",
    "ax.scatter(y, predicted)\n",
    "ax.plot([y.min(), y.max()], [y.min(), y.max()], 'k--', lw=4)\n",
    "ax.set_xlabel('Measured')\n",
    "ax.set_ylabel('Predicted')\n",
    "plt.show()\n",
    "\n",
    "\n"
   ]
  },
  {
   "cell_type": "code",
   "execution_count": 35,
   "metadata": {
    "collapsed": false,
    "deletable": true,
    "editable": true
   },
   "outputs": [
    {
     "name": "stderr",
     "output_type": "stream",
     "text": [
      "/usr/local/lib/python3.5/site-packages/matplotlib/font_manager.py:1297: UserWarning: findfont: Font family ['STXihei'] not found. Falling back to DejaVu Sans\n",
      "  (prop.get_family(), self.defaultFamily[fontext]))\n"
     ]
    },
    {
     "data": {
      "image/png": "[encoded data removed]",
      "text/plain": [
       "<matplotlib.figure.Figure at 0x10e5c54e0>"
      ]
     },
     "metadata": {},
     "output_type": "display_data"
    }
   ],
   "source": [
    "#将广告成本设为自变量X\n",
    "X = np.array(book[['FXS_BK_DXPZ']])\n",
    "#将点击量设为因变量Y\n",
    "Y = np.array(y)\n",
    "#查看自变量和因变量的行数\n",
    "X.shape,Y.shape\n",
    "#设置图表字体为华文细黑，字号15\n",
    "plt.rc('font', family='STXihei', size=5)\n",
    "#绘制散点图，广告成本X，点击量Y，设置颜色，标记点样式和透明度等参数\n",
    "plt.scatter(X,Y,30,color='red',marker='o',linewidth=2,alpha=0.8)\n",
    "#添加x轴标题\n",
    "plt.xlabel('Average_price')\n",
    "#添加y轴标题\n",
    "plt.ylabel('sell')\n",
    "#添加图表标题\n",
    "plt.title('ana')\n",
    "#设置背景网格线颜色，样式，尺寸和透明度\n",
    "plt.grid(color='#95a5a6',linestyle='--', linewidth=1,axis='both',alpha=0.4)\n",
    "#显示图表\n",
    "plt.show()"
   ]
  },
  {
   "cell_type": "code",
   "execution_count": 37,
   "metadata": {
    "collapsed": false,
    "deletable": true,
    "editable": true
   },
   "outputs": [
    {
     "ename": "NameError",
     "evalue": "name 'X_train' is not defined",
     "output_type": "error",
     "traceback": [
      "\u001b[0;31m---------------------------------------------------------------------------\u001b[0m",
      "\u001b[0;31mNameError\u001b[0m                                 Traceback (most recent call last)",
      "\u001b[0;32m<ipython-input-37-33af62107bb1>\u001b[0m in \u001b[0;36m<module>\u001b[0;34m()\u001b[0m\n\u001b[1;32m      1\u001b[0m \u001b[0;32mfrom\u001b[0m \u001b[0msklearn\u001b[0m \u001b[0;32mimport\u001b[0m \u001b[0mlinear_model\u001b[0m\u001b[0;34m\u001b[0m\u001b[0m\n\u001b[1;32m      2\u001b[0m \u001b[0mclf\u001b[0m \u001b[0;34m=\u001b[0m \u001b[0mlinear_model\u001b[0m\u001b[0;34m.\u001b[0m\u001b[0mLinearRegression\u001b[0m\u001b[0;34m(\u001b[0m\u001b[0;34m)\u001b[0m\u001b[0;34m\u001b[0m\u001b[0m\n\u001b[0;32m----> 3\u001b[0;31m \u001b[0mclf\u001b[0m\u001b[0;34m.\u001b[0m\u001b[0mfit\u001b[0m \u001b[0;34m(\u001b[0m\u001b[0mX_train\u001b[0m\u001b[0;34m,\u001b[0m\u001b[0my_train\u001b[0m\u001b[0;34m)\u001b[0m\u001b[0;34m\u001b[0m\u001b[0m\n\u001b[0m",
      "\u001b[0;31mNameError\u001b[0m: name 'X_train' is not defined"
     ]
    }
   ],
   "source": [
    "from sklearn import linear_model\n",
    "clf = linear_model.LinearRegression()\n",
    "clf.fit (X_train,y_train)"
   ]
  },
  {
   "cell_type": "code",
   "execution_count": null,
   "metadata": {
    "collapsed": true,
    "deletable": true,
    "editable": true
   },
   "outputs": [],
   "source": []
  }
 ],
 "metadata": {
  "kernelspec": {
   "display_name": "Python 3",
   "language": "python",
   "name": "python3"
  },
  "language_info": {
   "codemirror_mode": {
    "name": "ipython",
    "version": 3
   },
   "file_extension": ".py",
   "mimetype": "text/x-python",
   "name": "python",
   "nbconvert_exporter": "python",
   "pygments_lexer": "ipython3",
   "version": "3.5.2"
  }
 },
 "nbformat": 4,
 "nbformat_minor": 2
}
