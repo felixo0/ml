{
 "cells": [
  {
   "cell_type": "code",
   "execution_count": 71,
   "metadata": {
    "collapsed": true
   },
   "outputs": [],
   "source": [
    "import pandas as pd\n",
    "import seaborn as sns\n",
    "import matplotlib.pyplot as plt\n",
    "%matplotlib inline\n",
    "from sklearn import tree"
   ]
  },
  {
   "cell_type": "code",
   "execution_count": 72,
   "metadata": {
    "collapsed": true
   },
   "outputs": [],
   "source": [
    "book = pd.read_csv(\"/Users/page/data/book/DETAIL_INFO.csv\")"
   ]
  },
  {
   "cell_type": "code",
   "execution_count": 73,
   "metadata": {
    "collapsed": false
   },
   "outputs": [
    {
     "data": {
      "text/html": [
       "<div>\n",
       "<table border=\"1\" class=\"dataframe\">\n",
       "  <thead>\n",
       "    <tr style=\"text-align: right;\">\n",
       "      <th></th>\n",
       "      <th>NO</th>\n",
       "      <th>Year</th>\n",
       "      <th>CBS_NAME</th>\n",
       "      <th>CBS_Class</th>\n",
       "      <th>CBS_MY_Order</th>\n",
       "      <th>CBS_MY_Rate</th>\n",
       "      <th>CBS_XS_MY</th>\n",
       "      <th>CBS_DXPZ</th>\n",
       "      <th>CBS_XSCS</th>\n",
       "      <th>CBS_CRTAX</th>\n",
       "      <th>...</th>\n",
       "      <th>User_Area</th>\n",
       "      <th>User_Get_Price</th>\n",
       "      <th>FXS_Discount</th>\n",
       "      <th>FXS_BK_MY_Order</th>\n",
       "      <th>FXS_BK_MY_Rate</th>\n",
       "      <th>FXS_BK_MY</th>\n",
       "      <th>FXS_BK_DXPZ</th>\n",
       "      <th>FXS_BK_XSCS</th>\n",
       "      <th>FXS_BK_Average_Price</th>\n",
       "      <th>Unnamed: 27</th>\n",
       "    </tr>\n",
       "  </thead>\n",
       "  <tbody>\n",
       "    <tr>\n",
       "      <th>0</th>\n",
       "      <td>1</td>\n",
       "      <td>2011</td>\n",
       "      <td>中信出版集团股份有限公司</td>\n",
       "      <td>中央及军队出版社</td>\n",
       "      <td>11</td>\n",
       "      <td>1.0934</td>\n",
       "      <td>90678033.8</td>\n",
       "      <td>2921</td>\n",
       "      <td>2357742</td>\n",
       "      <td>0.07</td>\n",
       "      <td>...</td>\n",
       "      <td>一线城市，个别省会城市</td>\n",
       "      <td>9.0</td>\n",
       "      <td>0.585</td>\n",
       "      <td>2</td>\n",
       "      <td>3.4196</td>\n",
       "      <td>15289978.1</td>\n",
       "      <td>1579</td>\n",
       "      <td>426206</td>\n",
       "      <td>35.87</td>\n",
       "      <td>NaN</td>\n",
       "    </tr>\n",
       "    <tr>\n",
       "      <th>1</th>\n",
       "      <td>2</td>\n",
       "      <td>2011</td>\n",
       "      <td>中信出版集团股份有限公司</td>\n",
       "      <td>中央及军队出版社</td>\n",
       "      <td>11</td>\n",
       "      <td>1.0934</td>\n",
       "      <td>90678033.8</td>\n",
       "      <td>2921</td>\n",
       "      <td>2357742</td>\n",
       "      <td>0.07</td>\n",
       "      <td>...</td>\n",
       "      <td>一线城市，个别省会城市</td>\n",
       "      <td>9.0</td>\n",
       "      <td>0.585</td>\n",
       "      <td>484</td>\n",
       "      <td>0.0000</td>\n",
       "      <td>36.0</td>\n",
       "      <td>1</td>\n",
       "      <td>2</td>\n",
       "      <td>18.00</td>\n",
       "      <td>NaN</td>\n",
       "    </tr>\n",
       "    <tr>\n",
       "      <th>2</th>\n",
       "      <td>3</td>\n",
       "      <td>2011</td>\n",
       "      <td>中信出版集团股份有限公司</td>\n",
       "      <td>中央及军队出版社</td>\n",
       "      <td>11</td>\n",
       "      <td>1.0934</td>\n",
       "      <td>90678033.8</td>\n",
       "      <td>2921</td>\n",
       "      <td>2357742</td>\n",
       "      <td>0.08</td>\n",
       "      <td>...</td>\n",
       "      <td>一线城市，个别省会城市</td>\n",
       "      <td>9.0</td>\n",
       "      <td>0.585</td>\n",
       "      <td>235</td>\n",
       "      <td>0.0099</td>\n",
       "      <td>15346.0</td>\n",
       "      <td>7</td>\n",
       "      <td>478</td>\n",
       "      <td>32.10</td>\n",
       "      <td>NaN</td>\n",
       "    </tr>\n",
       "    <tr>\n",
       "      <th>3</th>\n",
       "      <td>4</td>\n",
       "      <td>2011</td>\n",
       "      <td>中信出版集团股份有限公司</td>\n",
       "      <td>中央及军队出版社</td>\n",
       "      <td>11</td>\n",
       "      <td>1.0934</td>\n",
       "      <td>90678033.8</td>\n",
       "      <td>2921</td>\n",
       "      <td>2357742</td>\n",
       "      <td>0.07</td>\n",
       "      <td>...</td>\n",
       "      <td>一线城市，个别省会城市</td>\n",
       "      <td>9.0</td>\n",
       "      <td>0.585</td>\n",
       "      <td>3</td>\n",
       "      <td>3.1915</td>\n",
       "      <td>10890168.2</td>\n",
       "      <td>405</td>\n",
       "      <td>232732</td>\n",
       "      <td>46.79</td>\n",
       "      <td>NaN</td>\n",
       "    </tr>\n",
       "    <tr>\n",
       "      <th>4</th>\n",
       "      <td>5</td>\n",
       "      <td>2011</td>\n",
       "      <td>中信出版集团股份有限公司</td>\n",
       "      <td>中央及军队出版社</td>\n",
       "      <td>11</td>\n",
       "      <td>1.0934</td>\n",
       "      <td>90678033.8</td>\n",
       "      <td>2921</td>\n",
       "      <td>2357742</td>\n",
       "      <td>0.08</td>\n",
       "      <td>...</td>\n",
       "      <td>一线城市，个别省会城市</td>\n",
       "      <td>9.0</td>\n",
       "      <td>0.585</td>\n",
       "      <td>181</td>\n",
       "      <td>0.0240</td>\n",
       "      <td>59391.0</td>\n",
       "      <td>21</td>\n",
       "      <td>1022</td>\n",
       "      <td>58.11</td>\n",
       "      <td>NaN</td>\n",
       "    </tr>\n",
       "  </tbody>\n",
       "</table>\n",
       "<p>5 rows × 28 columns</p>\n",
       "</div>"
      ],
      "text/plain": [
       "   NO  Year      CBS_NAME CBS_Class  CBS_MY_Order  CBS_MY_Rate   CBS_XS_MY  \\\n",
       "0   1  2011  中信出版集团股份有限公司  中央及军队出版社            11       1.0934  90678033.8   \n",
       "1   2  2011  中信出版集团股份有限公司  中央及军队出版社            11       1.0934  90678033.8   \n",
       "2   3  2011  中信出版集团股份有限公司  中央及军队出版社            11       1.0934  90678033.8   \n",
       "3   4  2011  中信出版集团股份有限公司  中央及军队出版社            11       1.0934  90678033.8   \n",
       "4   5  2011  中信出版集团股份有限公司  中央及军队出版社            11       1.0934  90678033.8   \n",
       "\n",
       "   CBS_DXPZ  CBS_XSCS  CBS_CRTAX     ...         User_Area  User_Get_Price  \\\n",
       "0      2921   2357742       0.07     ...       一线城市，个别省会城市             9.0   \n",
       "1      2921   2357742       0.07     ...       一线城市，个别省会城市             9.0   \n",
       "2      2921   2357742       0.08     ...       一线城市，个别省会城市             9.0   \n",
       "3      2921   2357742       0.07     ...       一线城市，个别省会城市             9.0   \n",
       "4      2921   2357742       0.08     ...       一线城市，个别省会城市             9.0   \n",
       "\n",
       "   FXS_Discount  FXS_BK_MY_Order  FXS_BK_MY_Rate   FXS_BK_MY  FXS_BK_DXPZ  \\\n",
       "0         0.585                2          3.4196  15289978.1         1579   \n",
       "1         0.585              484          0.0000        36.0            1   \n",
       "2         0.585              235          0.0099     15346.0            7   \n",
       "3         0.585                3          3.1915  10890168.2          405   \n",
       "4         0.585              181          0.0240     59391.0           21   \n",
       "\n",
       "  FXS_BK_XSCS FXS_BK_Average_Price  Unnamed: 27  \n",
       "0      426206                35.87          NaN  \n",
       "1           2                18.00          NaN  \n",
       "2         478                32.10          NaN  \n",
       "3      232732                46.79          NaN  \n",
       "4        1022                58.11          NaN  \n",
       "\n",
       "[5 rows x 28 columns]"
      ]
     },
     "execution_count": 73,
     "metadata": {},
     "output_type": "execute_result"
    }
   ],
   "source": [
    "book.head()"
   ]
  },
  {
   "cell_type": "code",
   "execution_count": 74,
   "metadata": {
    "collapsed": false
   },
   "outputs": [
    {
     "data": {
      "text/plain": [
       "中央及军队出版社      1819\n",
       "高校出版社          546\n",
       "城市与地方媒体出版社     381\n",
       "地方文艺出版社        321\n",
       "地方少儿出版社        312\n",
       "地方科技出版社        194\n",
       "地方古籍出版社        179\n",
       "地方人民出版社        175\n",
       "地方美术出版社        173\n",
       "Name: CBS_Class, dtype: int64"
      ]
     },
     "execution_count": 74,
     "metadata": {},
     "output_type": "execute_result"
    }
   ],
   "source": [
    "book[\"CBS_Class\"].value_counts()"
   ]
  },
  {
   "cell_type": "code",
   "execution_count": 75,
   "metadata": {
    "collapsed": false
   },
   "outputs": [
    {
     "data": {
      "text/plain": [
       "NO                      4100\n",
       "Year                    4100\n",
       "CBS_NAME                4100\n",
       "CBS_Class               4100\n",
       "CBS_MY_Order            4100\n",
       "CBS_MY_Rate             4100\n",
       "CBS_XS_MY               4100\n",
       "CBS_DXPZ                4100\n",
       "CBS_XSCS                4100\n",
       "CBS_CRTAX               4100\n",
       "Book_Class              4100\n",
       "CBS_BK_Average_price    4100\n",
       "CBS_BK_MY_Order         4100\n",
       "CBS_BK_MY_Rate          4100\n",
       "CBS_BK_XS_MY            4100\n",
       "CBS_BK_DXPZ             4100\n",
       "CBS_BK_XSCS             4100\n",
       "FXS_Class               4100\n",
       "User_Area               4100\n",
       "User_Get_Price          4100\n",
       "FXS_Discount            4100\n",
       "FXS_BK_MY_Order         4100\n",
       "FXS_BK_MY_Rate          4100\n",
       "FXS_BK_MY               4100\n",
       "FXS_BK_DXPZ             4100\n",
       "FXS_BK_XSCS             4100\n",
       "FXS_BK_Average_Price    4100\n",
       "Unnamed: 27                0\n",
       "dtype: int64"
      ]
     },
     "execution_count": 75,
     "metadata": {},
     "output_type": "execute_result"
    }
   ],
   "source": [
    "book.count()"
   ]
  },
  {
   "cell_type": "code",
   "execution_count": 76,
   "metadata": {
    "collapsed": false
   },
   "outputs": [
    {
     "data": {
      "text/plain": [
       "Index(['NO', 'Year', 'CBS_NAME', 'CBS_Class', 'CBS_MY_Order', 'CBS_MY_Rate',\n",
       "       'CBS_XS_MY', 'CBS_DXPZ', 'CBS_XSCS', 'CBS_CRTAX', 'Book_Class',\n",
       "       'CBS_BK_Average_price', 'CBS_BK_MY_Order', 'CBS_BK_MY_Rate',\n",
       "       'CBS_BK_XS_MY', 'CBS_BK_DXPZ', 'CBS_BK_XSCS', 'FXS_Class', 'User_Area',\n",
       "       'User_Get_Price', 'FXS_Discount', 'FXS_BK_MY_Order', 'FXS_BK_MY_Rate',\n",
       "       'FXS_BK_MY', 'FXS_BK_DXPZ', 'FXS_BK_XSCS', 'FXS_BK_Average_Price',\n",
       "       'Unnamed: 27'],\n",
       "      dtype='object')"
      ]
     },
     "execution_count": 76,
     "metadata": {},
     "output_type": "execute_result"
    }
   ],
   "source": [
    "book.columns"
   ]
  },
  {
   "cell_type": "code",
   "execution_count": 77,
   "metadata": {
    "collapsed": true
   },
   "outputs": [],
   "source": [
    "x = book[['CBS_Class', 'CBS_MY_Order', 'CBS_MY_Rate',\n",
    "       'CBS_XS_MY', 'CBS_DXPZ', 'CBS_XSCS', 'CBS_CRTAX', 'Book_Class',\n",
    "       'CBS_BK_Average_price', 'CBS_BK_MY_Order', 'CBS_BK_MY_Rate',\n",
    "       'CBS_BK_XS_MY', 'CBS_BK_DXPZ', 'FXS_Class', 'User_Area',\n",
    "       'User_Get_Price', 'FXS_Discount', 'FXS_BK_MY_Order', 'FXS_BK_MY_Rate',\n",
    "       'FXS_BK_MY', 'FXS_BK_DXPZ', 'FXS_BK_XSCS', 'FXS_BK_Average_Price']]"
   ]
  },
  {
   "cell_type": "code",
   "execution_count": 119,
   "metadata": {
    "collapsed": false
   },
   "outputs": [
    {
     "name": "stderr",
     "output_type": "stream",
     "text": [
      "/usr/local/lib/python3.5/site-packages/pandas/core/generic.py:3554: SettingWithCopyWarning: \n",
      "A value is trying to be set on a copy of a slice from a DataFrame\n",
      "\n",
      "See the caveats in the documentation: http://pandas.pydata.org/pandas-docs/stable/indexing.html#indexing-view-versus-copy\n",
      "  self._update_inplace(new_data)\n"
     ]
    }
   ],
   "source": [
    "new_book = book[['CBS_Class', 'CBS_MY_Order', 'CBS_MY_Rate',\n",
    "       'CBS_XS_MY', 'CBS_DXPZ', 'CBS_XSCS', 'CBS_CRTAX', 'Book_Class',\n",
    "       'CBS_BK_Average_price', 'CBS_BK_MY_Order', 'CBS_BK_MY_Rate',\n",
    "       'CBS_BK_XS_MY', 'CBS_BK_DXPZ','CBS_BK_XSCS', 'FXS_Class', 'User_Area',\n",
    "       'User_Get_Price', 'FXS_Discount', 'FXS_BK_MY_Order', 'FXS_BK_MY_Rate',\n",
    "       'FXS_BK_MY', 'FXS_BK_DXPZ', 'FXS_BK_XSCS', 'FXS_BK_Average_Price']]\n",
    "new_book[\"User_Area\"].replace([\"三线城市为主，部分在二线\", \"一线城市，个别省会城市\",\"一线和二线城市\", \"三线城市\"],[1,2,3,4],inplace=True)\n",
    "new_book[\"FXS_Class\"].replace([\"中等书店\", \"城市店\",\"超大书城\", \"大书城\",\"小型书店\"],[1,2,3,4,5],inplace=True)\n",
    "new_book[\"Book_Class\"].replace([\"社科\", \"少儿\",\"文艺\", \"生活休闲\",\"语言\",\"教辅教材\",\"科技\",\"综合图书\"],[1,2,3,4,5,6,7,8],inplace=True)\n",
    "new_book[\"CBS_Class\"].replace([\"中央及军队出版社\", \"高校出版社\",\"城市与地方媒体出版社\", \"地方文艺出版社\",\"地方少儿出版社\",\"地方科技出版社\",\n",
    "                        \"地方古籍出版社\",\"地方人民出版社\",\"地方美术出版社\"],[1,2,3,4,5,6,7,8,9],inplace=True)"
   ]
  },
  {
   "cell_type": "code",
   "execution_count": 79,
   "metadata": {
    "collapsed": true
   },
   "outputs": [],
   "source": [
    "y = book[['CBS_BK_XSCS']]"
   ]
  },
  {
   "cell_type": "code",
   "execution_count": 121,
   "metadata": {
    "collapsed": false
   },
   "outputs": [],
   "source": [
    "new_book.to_csv(\"/Users/page/data/book/newbook.csv\",header=True)"
   ]
  },
  {
   "cell_type": "code",
   "execution_count": 81,
   "metadata": {
    "collapsed": false
   },
   "outputs": [
    {
     "data": {
      "text/html": [
       "<div>\n",
       "<table border=\"1\" class=\"dataframe\">\n",
       "  <thead>\n",
       "    <tr style=\"text-align: right;\">\n",
       "      <th></th>\n",
       "      <th>CBS_Class</th>\n",
       "      <th>CBS_MY_Order</th>\n",
       "      <th>CBS_MY_Rate</th>\n",
       "      <th>CBS_XS_MY</th>\n",
       "      <th>CBS_DXPZ</th>\n",
       "      <th>CBS_XSCS</th>\n",
       "      <th>CBS_CRTAX</th>\n",
       "      <th>Book_Class</th>\n",
       "      <th>CBS_BK_Average_price</th>\n",
       "      <th>CBS_BK_MY_Order</th>\n",
       "      <th>...</th>\n",
       "      <th>FXS_Class</th>\n",
       "      <th>User_Area</th>\n",
       "      <th>User_Get_Price</th>\n",
       "      <th>FXS_Discount</th>\n",
       "      <th>FXS_BK_MY_Order</th>\n",
       "      <th>FXS_BK_MY_Rate</th>\n",
       "      <th>FXS_BK_MY</th>\n",
       "      <th>FXS_BK_DXPZ</th>\n",
       "      <th>FXS_BK_XSCS</th>\n",
       "      <th>FXS_BK_Average_Price</th>\n",
       "    </tr>\n",
       "  </thead>\n",
       "  <tbody>\n",
       "    <tr>\n",
       "      <th>0</th>\n",
       "      <td>中央及军队出版社</td>\n",
       "      <td>11</td>\n",
       "      <td>1.0934</td>\n",
       "      <td>90678033.8</td>\n",
       "      <td>2921</td>\n",
       "      <td>2357742</td>\n",
       "      <td>0.07</td>\n",
       "      <td>社科</td>\n",
       "      <td>34.83</td>\n",
       "      <td>3</td>\n",
       "      <td>...</td>\n",
       "      <td>超大书城</td>\n",
       "      <td>一线城市，个别省会城市</td>\n",
       "      <td>9.0</td>\n",
       "      <td>0.585</td>\n",
       "      <td>2</td>\n",
       "      <td>3.4196</td>\n",
       "      <td>15289978.1</td>\n",
       "      <td>1579</td>\n",
       "      <td>426206</td>\n",
       "      <td>35.87</td>\n",
       "    </tr>\n",
       "    <tr>\n",
       "      <th>1</th>\n",
       "      <td>中央及军队出版社</td>\n",
       "      <td>11</td>\n",
       "      <td>1.0934</td>\n",
       "      <td>90678033.8</td>\n",
       "      <td>2921</td>\n",
       "      <td>2357742</td>\n",
       "      <td>0.07</td>\n",
       "      <td>教辅教材</td>\n",
       "      <td>17.75</td>\n",
       "      <td>515</td>\n",
       "      <td>...</td>\n",
       "      <td>超大书城</td>\n",
       "      <td>一线城市，个别省会城市</td>\n",
       "      <td>9.0</td>\n",
       "      <td>0.585</td>\n",
       "      <td>484</td>\n",
       "      <td>0.0000</td>\n",
       "      <td>36.0</td>\n",
       "      <td>1</td>\n",
       "      <td>2</td>\n",
       "      <td>18.00</td>\n",
       "    </tr>\n",
       "    <tr>\n",
       "      <th>2</th>\n",
       "      <td>中央及军队出版社</td>\n",
       "      <td>11</td>\n",
       "      <td>1.0934</td>\n",
       "      <td>90678033.8</td>\n",
       "      <td>2921</td>\n",
       "      <td>2357742</td>\n",
       "      <td>0.08</td>\n",
       "      <td>语言</td>\n",
       "      <td>32.51</td>\n",
       "      <td>258</td>\n",
       "      <td>...</td>\n",
       "      <td>超大书城</td>\n",
       "      <td>一线城市，个别省会城市</td>\n",
       "      <td>9.0</td>\n",
       "      <td>0.585</td>\n",
       "      <td>235</td>\n",
       "      <td>0.0099</td>\n",
       "      <td>15346.0</td>\n",
       "      <td>7</td>\n",
       "      <td>478</td>\n",
       "      <td>32.10</td>\n",
       "    </tr>\n",
       "    <tr>\n",
       "      <th>3</th>\n",
       "      <td>中央及军队出版社</td>\n",
       "      <td>11</td>\n",
       "      <td>1.0934</td>\n",
       "      <td>90678033.8</td>\n",
       "      <td>2921</td>\n",
       "      <td>2357742</td>\n",
       "      <td>0.07</td>\n",
       "      <td>文艺</td>\n",
       "      <td>47.25</td>\n",
       "      <td>3</td>\n",
       "      <td>...</td>\n",
       "      <td>超大书城</td>\n",
       "      <td>一线城市，个别省会城市</td>\n",
       "      <td>9.0</td>\n",
       "      <td>0.585</td>\n",
       "      <td>3</td>\n",
       "      <td>3.1915</td>\n",
       "      <td>10890168.2</td>\n",
       "      <td>405</td>\n",
       "      <td>232732</td>\n",
       "      <td>46.79</td>\n",
       "    </tr>\n",
       "    <tr>\n",
       "      <th>4</th>\n",
       "      <td>中央及军队出版社</td>\n",
       "      <td>11</td>\n",
       "      <td>1.0934</td>\n",
       "      <td>90678033.8</td>\n",
       "      <td>2921</td>\n",
       "      <td>2357742</td>\n",
       "      <td>0.08</td>\n",
       "      <td>科技</td>\n",
       "      <td>60.70</td>\n",
       "      <td>191</td>\n",
       "      <td>...</td>\n",
       "      <td>超大书城</td>\n",
       "      <td>一线城市，个别省会城市</td>\n",
       "      <td>9.0</td>\n",
       "      <td>0.585</td>\n",
       "      <td>181</td>\n",
       "      <td>0.0240</td>\n",
       "      <td>59391.0</td>\n",
       "      <td>21</td>\n",
       "      <td>1022</td>\n",
       "      <td>58.11</td>\n",
       "    </tr>\n",
       "  </tbody>\n",
       "</table>\n",
       "<p>5 rows × 23 columns</p>\n",
       "</div>"
      ],
      "text/plain": [
       "  CBS_Class  CBS_MY_Order  CBS_MY_Rate   CBS_XS_MY  CBS_DXPZ  CBS_XSCS  \\\n",
       "0  中央及军队出版社            11       1.0934  90678033.8      2921   2357742   \n",
       "1  中央及军队出版社            11       1.0934  90678033.8      2921   2357742   \n",
       "2  中央及军队出版社            11       1.0934  90678033.8      2921   2357742   \n",
       "3  中央及军队出版社            11       1.0934  90678033.8      2921   2357742   \n",
       "4  中央及军队出版社            11       1.0934  90678033.8      2921   2357742   \n",
       "\n",
       "   CBS_CRTAX Book_Class  CBS_BK_Average_price  CBS_BK_MY_Order  \\\n",
       "0       0.07         社科                 34.83                3   \n",
       "1       0.07       教辅教材                 17.75              515   \n",
       "2       0.08         语言                 32.51              258   \n",
       "3       0.07         文艺                 47.25                3   \n",
       "4       0.08         科技                 60.70              191   \n",
       "\n",
       "           ...           FXS_Class    User_Area  User_Get_Price FXS_Discount  \\\n",
       "0          ...                超大书城  一线城市，个别省会城市             9.0        0.585   \n",
       "1          ...                超大书城  一线城市，个别省会城市             9.0        0.585   \n",
       "2          ...                超大书城  一线城市，个别省会城市             9.0        0.585   \n",
       "3          ...                超大书城  一线城市，个别省会城市             9.0        0.585   \n",
       "4          ...                超大书城  一线城市，个别省会城市             9.0        0.585   \n",
       "\n",
       "  FXS_BK_MY_Order  FXS_BK_MY_Rate   FXS_BK_MY  FXS_BK_DXPZ  FXS_BK_XSCS  \\\n",
       "0               2          3.4196  15289978.1         1579       426206   \n",
       "1             484          0.0000        36.0            1            2   \n",
       "2             235          0.0099     15346.0            7          478   \n",
       "3               3          3.1915  10890168.2          405       232732   \n",
       "4             181          0.0240     59391.0           21         1022   \n",
       "\n",
       "   FXS_BK_Average_Price  \n",
       "0                 35.87  \n",
       "1                 18.00  \n",
       "2                 32.10  \n",
       "3                 46.79  \n",
       "4                 58.11  \n",
       "\n",
       "[5 rows x 23 columns]"
      ]
     },
     "execution_count": 81,
     "metadata": {},
     "output_type": "execute_result"
    }
   ],
   "source": [
    "x.head()"
   ]
  },
  {
   "cell_type": "code",
   "execution_count": null,
   "metadata": {
    "collapsed": false
   },
   "outputs": [],
   "source": []
  },
  {
   "cell_type": "code",
   "execution_count": 82,
   "metadata": {
    "collapsed": false
   },
   "outputs": [
    {
     "data": {
      "text/html": [
       "<div>\n",
       "<table border=\"1\" class=\"dataframe\">\n",
       "  <thead>\n",
       "    <tr style=\"text-align: right;\">\n",
       "      <th></th>\n",
       "      <th>CBS_BK_XSCS</th>\n",
       "    </tr>\n",
       "  </thead>\n",
       "  <tbody>\n",
       "    <tr>\n",
       "      <th>0</th>\n",
       "      <td>1428330</td>\n",
       "    </tr>\n",
       "    <tr>\n",
       "      <th>1</th>\n",
       "      <td>16</td>\n",
       "    </tr>\n",
       "    <tr>\n",
       "      <th>2</th>\n",
       "      <td>1933</td>\n",
       "    </tr>\n",
       "    <tr>\n",
       "      <th>3</th>\n",
       "      <td>736560</td>\n",
       "    </tr>\n",
       "    <tr>\n",
       "      <th>4</th>\n",
       "      <td>3451</td>\n",
       "    </tr>\n",
       "  </tbody>\n",
       "</table>\n",
       "</div>"
      ],
      "text/plain": [
       "   CBS_BK_XSCS\n",
       "0      1428330\n",
       "1           16\n",
       "2         1933\n",
       "3       736560\n",
       "4         3451"
      ]
     },
     "execution_count": 82,
     "metadata": {},
     "output_type": "execute_result"
    }
   ],
   "source": [
    "y.head()"
   ]
  },
  {
   "cell_type": "code",
   "execution_count": 83,
   "metadata": {
    "collapsed": false
   },
   "outputs": [
    {
     "data": {
      "text/plain": [
       "三线城市为主，部分在二线    1664\n",
       "一线城市，个别省会城市      826\n",
       "一线和二线城市          822\n",
       "三线城市             788\n",
       "Name: User_Area, dtype: int64"
      ]
     },
     "execution_count": 83,
     "metadata": {},
     "output_type": "execute_result"
    }
   ],
   "source": [
    "x[\"User_Area\"].value_counts()"
   ]
  },
  {
   "cell_type": "code",
   "execution_count": 84,
   "metadata": {
    "collapsed": false
   },
   "outputs": [
    {
     "name": "stderr",
     "output_type": "stream",
     "text": [
      "/usr/local/lib/python3.5/site-packages/pandas/core/generic.py:3554: SettingWithCopyWarning: \n",
      "A value is trying to be set on a copy of a slice from a DataFrame\n",
      "\n",
      "See the caveats in the documentation: http://pandas.pydata.org/pandas-docs/stable/indexing.html#indexing-view-versus-copy\n",
      "  self._update_inplace(new_data)\n"
     ]
    }
   ],
   "source": [
    "x[\"User_Area\"].replace([\"三线城市为主，部分在二线\", \"一线城市，个别省会城市\",\"一线和二线城市\", \"三线城市\"],[1,2,3,4],inplace=True)"
   ]
  },
  {
   "cell_type": "code",
   "execution_count": 85,
   "metadata": {
    "collapsed": false
   },
   "outputs": [
    {
     "name": "stderr",
     "output_type": "stream",
     "text": [
      "/usr/local/lib/python3.5/site-packages/pandas/core/generic.py:3554: SettingWithCopyWarning: \n",
      "A value is trying to be set on a copy of a slice from a DataFrame\n",
      "\n",
      "See the caveats in the documentation: http://pandas.pydata.org/pandas-docs/stable/indexing.html#indexing-view-versus-copy\n",
      "  self._update_inplace(new_data)\n"
     ]
    }
   ],
   "source": [
    "x[\"FXS_Class\"].replace([\"中等书店\", \"城市店\",\"超大书城\", \"大书城\",\"小型书店\"],[1,2,3,4,5],inplace=True)"
   ]
  },
  {
   "cell_type": "code",
   "execution_count": 86,
   "metadata": {
    "collapsed": false
   },
   "outputs": [
    {
     "name": "stderr",
     "output_type": "stream",
     "text": [
      "/usr/local/lib/python3.5/site-packages/pandas/core/generic.py:3554: SettingWithCopyWarning: \n",
      "A value is trying to be set on a copy of a slice from a DataFrame\n",
      "\n",
      "See the caveats in the documentation: http://pandas.pydata.org/pandas-docs/stable/indexing.html#indexing-view-versus-copy\n",
      "  self._update_inplace(new_data)\n"
     ]
    }
   ],
   "source": [
    "x[\"Book_Class\"].replace([\"社科\", \"少儿\",\"文艺\", \"生活休闲\",\"语言\",\"教辅教材\",\"科技\",\"综合图书\"],[1,2,3,4,5,6,7,8],inplace=True)"
   ]
  },
  {
   "cell_type": "code",
   "execution_count": 87,
   "metadata": {
    "collapsed": false
   },
   "outputs": [
    {
     "ename": "AttributeError",
     "evalue": "'NoneType' object has no attribute 'shape'",
     "output_type": "error",
     "traceback": [
      "\u001b[0;31m---------------------------------------------------------------------------\u001b[0m",
      "\u001b[0;31mAttributeError\u001b[0m                            Traceback (most recent call last)",
      "\u001b[0;32m<ipython-input-87-89b187785776>\u001b[0m in \u001b[0;36m<module>\u001b[0;34m()\u001b[0m\n\u001b[0;32m----> 1\u001b[0;31m \u001b[0mxx\u001b[0m\u001b[0;34m.\u001b[0m\u001b[0mshape\u001b[0m\u001b[0;34m\u001b[0m\u001b[0m\n\u001b[0m",
      "\u001b[0;31mAttributeError\u001b[0m: 'NoneType' object has no attribute 'shape'"
     ]
    }
   ],
   "source": []
  },
  {
   "cell_type": "code",
   "execution_count": 88,
   "metadata": {
    "collapsed": false
   },
   "outputs": [
    {
     "data": {
      "text/plain": [
       "(4100, 23)"
      ]
     },
     "execution_count": 88,
     "metadata": {},
     "output_type": "execute_result"
    }
   ],
   "source": [
    "x.shape"
   ]
  },
  {
   "cell_type": "code",
   "execution_count": 89,
   "metadata": {
    "collapsed": false
   },
   "outputs": [
    {
     "data": {
      "text/plain": [
       "3    575\n",
       "2    575\n",
       "1    575\n",
       "4    559\n",
       "5    556\n",
       "6    555\n",
       "7    526\n",
       "8    179\n",
       "Name: Book_Class, dtype: int64"
      ]
     },
     "execution_count": 89,
     "metadata": {},
     "output_type": "execute_result"
    }
   ],
   "source": [
    "x[\"Book_Class\"].value_counts()"
   ]
  },
  {
   "cell_type": "code",
   "execution_count": 90,
   "metadata": {
    "collapsed": false
   },
   "outputs": [
    {
     "data": {
      "text/plain": [
       "中央及军队出版社      1819\n",
       "高校出版社          546\n",
       "城市与地方媒体出版社     381\n",
       "地方文艺出版社        321\n",
       "地方少儿出版社        312\n",
       "地方科技出版社        194\n",
       "地方古籍出版社        179\n",
       "地方人民出版社        175\n",
       "地方美术出版社        173\n",
       "Name: CBS_Class, dtype: int64"
      ]
     },
     "execution_count": 90,
     "metadata": {},
     "output_type": "execute_result"
    }
   ],
   "source": [
    "x[\"CBS_Class\"].value_counts()"
   ]
  },
  {
   "cell_type": "code",
   "execution_count": 91,
   "metadata": {
    "collapsed": false
   },
   "outputs": [
    {
     "name": "stderr",
     "output_type": "stream",
     "text": [
      "/usr/local/lib/python3.5/site-packages/pandas/core/generic.py:3554: SettingWithCopyWarning: \n",
      "A value is trying to be set on a copy of a slice from a DataFrame\n",
      "\n",
      "See the caveats in the documentation: http://pandas.pydata.org/pandas-docs/stable/indexing.html#indexing-view-versus-copy\n",
      "  self._update_inplace(new_data)\n"
     ]
    }
   ],
   "source": [
    "x[\"CBS_Class\"].replace([\"中央及军队出版社\", \"高校出版社\",\"城市与地方媒体出版社\", \"地方文艺出版社\",\"地方少儿出版社\",\"地方科技出版社\",\n",
    "                        \"地方古籍出版社\",\"地方人民出版社\",\"地方美术出版社\"],[1,2,3,4,5,6,7,8,9],inplace=True)"
   ]
  },
  {
   "cell_type": "code",
   "execution_count": 113,
   "metadata": {
    "collapsed": false
   },
   "outputs": [
    {
     "data": {
      "text/html": [
       "<div>\n",
       "<table border=\"1\" class=\"dataframe\">\n",
       "  <thead>\n",
       "    <tr style=\"text-align: right;\">\n",
       "      <th></th>\n",
       "      <th>CBS_Class</th>\n",
       "      <th>CBS_MY_Order</th>\n",
       "      <th>CBS_MY_Rate</th>\n",
       "      <th>CBS_XS_MY</th>\n",
       "      <th>CBS_DXPZ</th>\n",
       "      <th>CBS_XSCS</th>\n",
       "      <th>CBS_CRTAX</th>\n",
       "      <th>Book_Class</th>\n",
       "      <th>CBS_BK_Average_price</th>\n",
       "      <th>CBS_BK_MY_Order</th>\n",
       "      <th>...</th>\n",
       "      <th>FXS_Class</th>\n",
       "      <th>User_Area</th>\n",
       "      <th>User_Get_Price</th>\n",
       "      <th>FXS_Discount</th>\n",
       "      <th>FXS_BK_MY_Order</th>\n",
       "      <th>FXS_BK_MY_Rate</th>\n",
       "      <th>FXS_BK_MY</th>\n",
       "      <th>FXS_BK_DXPZ</th>\n",
       "      <th>FXS_BK_XSCS</th>\n",
       "      <th>FXS_BK_Average_Price</th>\n",
       "    </tr>\n",
       "  </thead>\n",
       "  <tbody>\n",
       "    <tr>\n",
       "      <th>0</th>\n",
       "      <td>1</td>\n",
       "      <td>11</td>\n",
       "      <td>1.0934</td>\n",
       "      <td>90678033.8</td>\n",
       "      <td>2921</td>\n",
       "      <td>2357742</td>\n",
       "      <td>0.07</td>\n",
       "      <td>1</td>\n",
       "      <td>34.83</td>\n",
       "      <td>3</td>\n",
       "      <td>...</td>\n",
       "      <td>3</td>\n",
       "      <td>2</td>\n",
       "      <td>9.0</td>\n",
       "      <td>0.585</td>\n",
       "      <td>2</td>\n",
       "      <td>3.4196</td>\n",
       "      <td>15289978.1</td>\n",
       "      <td>1579</td>\n",
       "      <td>426206</td>\n",
       "      <td>35.87</td>\n",
       "    </tr>\n",
       "    <tr>\n",
       "      <th>1</th>\n",
       "      <td>1</td>\n",
       "      <td>11</td>\n",
       "      <td>1.0934</td>\n",
       "      <td>90678033.8</td>\n",
       "      <td>2921</td>\n",
       "      <td>2357742</td>\n",
       "      <td>0.07</td>\n",
       "      <td>6</td>\n",
       "      <td>17.75</td>\n",
       "      <td>515</td>\n",
       "      <td>...</td>\n",
       "      <td>3</td>\n",
       "      <td>2</td>\n",
       "      <td>9.0</td>\n",
       "      <td>0.585</td>\n",
       "      <td>484</td>\n",
       "      <td>0.0000</td>\n",
       "      <td>36.0</td>\n",
       "      <td>1</td>\n",
       "      <td>2</td>\n",
       "      <td>18.00</td>\n",
       "    </tr>\n",
       "    <tr>\n",
       "      <th>2</th>\n",
       "      <td>1</td>\n",
       "      <td>11</td>\n",
       "      <td>1.0934</td>\n",
       "      <td>90678033.8</td>\n",
       "      <td>2921</td>\n",
       "      <td>2357742</td>\n",
       "      <td>0.08</td>\n",
       "      <td>5</td>\n",
       "      <td>32.51</td>\n",
       "      <td>258</td>\n",
       "      <td>...</td>\n",
       "      <td>3</td>\n",
       "      <td>2</td>\n",
       "      <td>9.0</td>\n",
       "      <td>0.585</td>\n",
       "      <td>235</td>\n",
       "      <td>0.0099</td>\n",
       "      <td>15346.0</td>\n",
       "      <td>7</td>\n",
       "      <td>478</td>\n",
       "      <td>32.10</td>\n",
       "    </tr>\n",
       "    <tr>\n",
       "      <th>3</th>\n",
       "      <td>1</td>\n",
       "      <td>11</td>\n",
       "      <td>1.0934</td>\n",
       "      <td>90678033.8</td>\n",
       "      <td>2921</td>\n",
       "      <td>2357742</td>\n",
       "      <td>0.07</td>\n",
       "      <td>3</td>\n",
       "      <td>47.25</td>\n",
       "      <td>3</td>\n",
       "      <td>...</td>\n",
       "      <td>3</td>\n",
       "      <td>2</td>\n",
       "      <td>9.0</td>\n",
       "      <td>0.585</td>\n",
       "      <td>3</td>\n",
       "      <td>3.1915</td>\n",
       "      <td>10890168.2</td>\n",
       "      <td>405</td>\n",
       "      <td>232732</td>\n",
       "      <td>46.79</td>\n",
       "    </tr>\n",
       "    <tr>\n",
       "      <th>4</th>\n",
       "      <td>1</td>\n",
       "      <td>11</td>\n",
       "      <td>1.0934</td>\n",
       "      <td>90678033.8</td>\n",
       "      <td>2921</td>\n",
       "      <td>2357742</td>\n",
       "      <td>0.08</td>\n",
       "      <td>7</td>\n",
       "      <td>60.70</td>\n",
       "      <td>191</td>\n",
       "      <td>...</td>\n",
       "      <td>3</td>\n",
       "      <td>2</td>\n",
       "      <td>9.0</td>\n",
       "      <td>0.585</td>\n",
       "      <td>181</td>\n",
       "      <td>0.0240</td>\n",
       "      <td>59391.0</td>\n",
       "      <td>21</td>\n",
       "      <td>1022</td>\n",
       "      <td>58.11</td>\n",
       "    </tr>\n",
       "  </tbody>\n",
       "</table>\n",
       "<p>5 rows × 23 columns</p>\n",
       "</div>"
      ],
      "text/plain": [
       "   CBS_Class  CBS_MY_Order  CBS_MY_Rate   CBS_XS_MY  CBS_DXPZ  CBS_XSCS  \\\n",
       "0          1            11       1.0934  90678033.8      2921   2357742   \n",
       "1          1            11       1.0934  90678033.8      2921   2357742   \n",
       "2          1            11       1.0934  90678033.8      2921   2357742   \n",
       "3          1            11       1.0934  90678033.8      2921   2357742   \n",
       "4          1            11       1.0934  90678033.8      2921   2357742   \n",
       "\n",
       "   CBS_CRTAX  Book_Class  CBS_BK_Average_price  CBS_BK_MY_Order  \\\n",
       "0       0.07           1                 34.83                3   \n",
       "1       0.07           6                 17.75              515   \n",
       "2       0.08           5                 32.51              258   \n",
       "3       0.07           3                 47.25                3   \n",
       "4       0.08           7                 60.70              191   \n",
       "\n",
       "           ...           FXS_Class  User_Area  User_Get_Price  FXS_Discount  \\\n",
       "0          ...                   3          2             9.0         0.585   \n",
       "1          ...                   3          2             9.0         0.585   \n",
       "2          ...                   3          2             9.0         0.585   \n",
       "3          ...                   3          2             9.0         0.585   \n",
       "4          ...                   3          2             9.0         0.585   \n",
       "\n",
       "   FXS_BK_MY_Order  FXS_BK_MY_Rate   FXS_BK_MY  FXS_BK_DXPZ  FXS_BK_XSCS  \\\n",
       "0                2          3.4196  15289978.1         1579       426206   \n",
       "1              484          0.0000        36.0            1            2   \n",
       "2              235          0.0099     15346.0            7          478   \n",
       "3                3          3.1915  10890168.2          405       232732   \n",
       "4              181          0.0240     59391.0           21         1022   \n",
       "\n",
       "   FXS_BK_Average_Price  \n",
       "0                 35.87  \n",
       "1                 18.00  \n",
       "2                 32.10  \n",
       "3                 46.79  \n",
       "4                 58.11  \n",
       "\n",
       "[5 rows x 23 columns]"
      ]
     },
     "execution_count": 113,
     "metadata": {},
     "output_type": "execute_result"
    }
   ],
   "source": [
    "x.head()"
   ]
  },
  {
   "cell_type": "code",
   "execution_count": 112,
   "metadata": {
    "collapsed": false
   },
   "outputs": [
    {
     "data": {
      "text/plain": [
       "Index(['CBS_Class', 'CBS_MY_Order', 'CBS_MY_Rate', 'CBS_XS_MY', 'CBS_DXPZ',\n",
       "       'CBS_XSCS', 'CBS_CRTAX', 'Book_Class', 'CBS_BK_Average_price',\n",
       "       'CBS_BK_MY_Order', 'CBS_BK_MY_Rate', 'CBS_BK_XS_MY', 'CBS_BK_DXPZ',\n",
       "       'FXS_Class', 'User_Area', 'User_Get_Price', 'FXS_Discount',\n",
       "       'FXS_BK_MY_Order', 'FXS_BK_MY_Rate', 'FXS_BK_MY', 'FXS_BK_DXPZ',\n",
       "       'FXS_BK_XSCS', 'FXS_BK_Average_Price'],\n",
       "      dtype='object')"
      ]
     },
     "execution_count": 112,
     "metadata": {},
     "output_type": "execute_result"
    }
   ],
   "source": [
    "x.columns"
   ]
  },
  {
   "cell_type": "code",
   "execution_count": 94,
   "metadata": {
    "collapsed": false
   },
   "outputs": [],
   "source": [
    "clf = tree.DecisionTreeClassifier()\n",
    "clf = clf.fit(x, y)"
   ]
  },
  {
   "cell_type": "code",
   "execution_count": 97,
   "metadata": {
    "collapsed": false
   },
   "outputs": [],
   "source": [
    "from IPython.display import Image"
   ]
  },
  {
   "cell_type": "code",
   "execution_count": 114,
   "metadata": {
    "collapsed": false
   },
   "outputs": [
    {
     "ename": "KeyError",
     "evalue": "11",
     "output_type": "error",
     "traceback": [
      "\u001b[0;31m---------------------------------------------------------------------------\u001b[0m",
      "\u001b[0;31mKeyError\u001b[0m                                  Traceback (most recent call last)",
      "\u001b[0;32m/usr/local/lib/python3.5/site-packages/pandas/indexes/base.py\u001b[0m in \u001b[0;36mget_loc\u001b[0;34m(self, key, method, tolerance)\u001b[0m\n\u001b[1;32m   2133\u001b[0m             \u001b[0;32mtry\u001b[0m\u001b[0;34m:\u001b[0m\u001b[0;34m\u001b[0m\u001b[0m\n\u001b[0;32m-> 2134\u001b[0;31m                 \u001b[0;32mreturn\u001b[0m \u001b[0mself\u001b[0m\u001b[0;34m.\u001b[0m\u001b[0m_engine\u001b[0m\u001b[0;34m.\u001b[0m\u001b[0mget_loc\u001b[0m\u001b[0;34m(\u001b[0m\u001b[0mkey\u001b[0m\u001b[0;34m)\u001b[0m\u001b[0;34m\u001b[0m\u001b[0m\n\u001b[0m\u001b[1;32m   2135\u001b[0m             \u001b[0;32mexcept\u001b[0m \u001b[0mKeyError\u001b[0m\u001b[0;34m:\u001b[0m\u001b[0;34m\u001b[0m\u001b[0m\n",
      "\u001b[0;32mpandas/index.pyx\u001b[0m in \u001b[0;36mpandas.index.IndexEngine.get_loc (pandas/index.c:4433)\u001b[0;34m()\u001b[0m\n",
      "\u001b[0;32mpandas/index.pyx\u001b[0m in \u001b[0;36mpandas.index.IndexEngine.get_loc (pandas/index.c:4279)\u001b[0;34m()\u001b[0m\n",
      "\u001b[0;32mpandas/src/hashtable_class_helper.pxi\u001b[0m in \u001b[0;36mpandas.hashtable.PyObjectHashTable.get_item (pandas/hashtable.c:13742)\u001b[0;34m()\u001b[0m\n",
      "\u001b[0;32mpandas/src/hashtable_class_helper.pxi\u001b[0m in \u001b[0;36mpandas.hashtable.PyObjectHashTable.get_item (pandas/hashtable.c:13696)\u001b[0;34m()\u001b[0m\n",
      "\u001b[0;31mKeyError\u001b[0m: 11",
      "\nDuring handling of the above exception, another exception occurred:\n",
      "\u001b[0;31mKeyError\u001b[0m                                  Traceback (most recent call last)",
      "\u001b[0;32m<ipython-input-114-8de1aa33087e>\u001b[0m in \u001b[0;36m<module>\u001b[0;34m()\u001b[0m\n\u001b[1;32m      3\u001b[0m                          \u001b[0mclass_names\u001b[0m\u001b[0;34m=\u001b[0m\u001b[0my\u001b[0m\u001b[0;34m,\u001b[0m\u001b[0;34m\u001b[0m\u001b[0m\n\u001b[1;32m      4\u001b[0m                          \u001b[0mfilled\u001b[0m\u001b[0;34m=\u001b[0m\u001b[0;32mTrue\u001b[0m\u001b[0;34m,\u001b[0m \u001b[0mrounded\u001b[0m\u001b[0;34m=\u001b[0m\u001b[0;32mTrue\u001b[0m\u001b[0;34m,\u001b[0m\u001b[0;34m\u001b[0m\u001b[0m\n\u001b[0;32m----> 5\u001b[0;31m                          special_characters=True)\n\u001b[0m",
      "\u001b[0;32m/usr/local/lib/python3.5/site-packages/sklearn/tree/export.py\u001b[0m in \u001b[0;36mexport_graphviz\u001b[0;34m(decision_tree, out_file, max_depth, feature_names, class_names, label, filled, leaves_parallel, impurity, node_ids, proportion, rotate, rounded, special_characters)\u001b[0m\n\u001b[1;32m    431\u001b[0m             \u001b[0mrecurse\u001b[0m\u001b[0;34m(\u001b[0m\u001b[0mdecision_tree\u001b[0m\u001b[0;34m,\u001b[0m \u001b[0;36m0\u001b[0m\u001b[0;34m,\u001b[0m \u001b[0mcriterion\u001b[0m\u001b[0;34m=\u001b[0m\u001b[0;34m\"impurity\"\u001b[0m\u001b[0;34m)\u001b[0m\u001b[0;34m\u001b[0m\u001b[0m\n\u001b[1;32m    432\u001b[0m         \u001b[0;32melse\u001b[0m\u001b[0;34m:\u001b[0m\u001b[0;34m\u001b[0m\u001b[0m\n\u001b[0;32m--> 433\u001b[0;31m             \u001b[0mrecurse\u001b[0m\u001b[0;34m(\u001b[0m\u001b[0mdecision_tree\u001b[0m\u001b[0;34m.\u001b[0m\u001b[0mtree_\u001b[0m\u001b[0;34m,\u001b[0m \u001b[0;36m0\u001b[0m\u001b[0;34m,\u001b[0m \u001b[0mcriterion\u001b[0m\u001b[0;34m=\u001b[0m\u001b[0mdecision_tree\u001b[0m\u001b[0;34m.\u001b[0m\u001b[0mcriterion\u001b[0m\u001b[0;34m)\u001b[0m\u001b[0;34m\u001b[0m\u001b[0m\n\u001b[0m\u001b[1;32m    434\u001b[0m \u001b[0;34m\u001b[0m\u001b[0m\n\u001b[1;32m    435\u001b[0m         \u001b[0;31m# If required, draw leaf nodes at same depth as each other\u001b[0m\u001b[0;34m\u001b[0m\u001b[0;34m\u001b[0m\u001b[0m\n",
      "\u001b[0;32m/usr/local/lib/python3.5/site-packages/sklearn/tree/export.py\u001b[0m in \u001b[0;36mrecurse\u001b[0;34m(tree, node_id, criterion, parent, depth)\u001b[0m\n\u001b[1;32m    319\u001b[0m             out_file.write('%d [label=%s'\n\u001b[1;32m    320\u001b[0m                            % (node_id,\n\u001b[0;32m--> 321\u001b[0;31m                               node_to_str(tree, node_id, criterion)))\n\u001b[0m\u001b[1;32m    322\u001b[0m \u001b[0;34m\u001b[0m\u001b[0m\n\u001b[1;32m    323\u001b[0m             \u001b[0;32mif\u001b[0m \u001b[0mfilled\u001b[0m\u001b[0;34m:\u001b[0m\u001b[0;34m\u001b[0m\u001b[0m\n",
      "\u001b[0;32m/usr/local/lib/python3.5/site-packages/sklearn/tree/export.py\u001b[0m in \u001b[0;36mnode_to_str\u001b[0;34m(tree, node_id, criterion)\u001b[0m\n\u001b[1;32m    217\u001b[0m             \u001b[0;31m# Always write node decision criteria, except for leaves\u001b[0m\u001b[0;34m\u001b[0m\u001b[0;34m\u001b[0m\u001b[0m\n\u001b[1;32m    218\u001b[0m             \u001b[0;32mif\u001b[0m \u001b[0mfeature_names\u001b[0m \u001b[0;32mis\u001b[0m \u001b[0;32mnot\u001b[0m \u001b[0;32mNone\u001b[0m\u001b[0;34m:\u001b[0m\u001b[0;34m\u001b[0m\u001b[0m\n\u001b[0;32m--> 219\u001b[0;31m                 \u001b[0mfeature\u001b[0m \u001b[0;34m=\u001b[0m \u001b[0mfeature_names\u001b[0m\u001b[0;34m[\u001b[0m\u001b[0mtree\u001b[0m\u001b[0;34m.\u001b[0m\u001b[0mfeature\u001b[0m\u001b[0;34m[\u001b[0m\u001b[0mnode_id\u001b[0m\u001b[0;34m]\u001b[0m\u001b[0;34m]\u001b[0m\u001b[0;34m\u001b[0m\u001b[0m\n\u001b[0m\u001b[1;32m    220\u001b[0m             \u001b[0;32melse\u001b[0m\u001b[0;34m:\u001b[0m\u001b[0;34m\u001b[0m\u001b[0m\n\u001b[1;32m    221\u001b[0m                 feature = \"X%s%s%s\" % (characters[1],\n",
      "\u001b[0;32m/usr/local/lib/python3.5/site-packages/pandas/core/frame.py\u001b[0m in \u001b[0;36m__getitem__\u001b[0;34m(self, key)\u001b[0m\n\u001b[1;32m   2057\u001b[0m             \u001b[0;32mreturn\u001b[0m \u001b[0mself\u001b[0m\u001b[0;34m.\u001b[0m\u001b[0m_getitem_multilevel\u001b[0m\u001b[0;34m(\u001b[0m\u001b[0mkey\u001b[0m\u001b[0;34m)\u001b[0m\u001b[0;34m\u001b[0m\u001b[0m\n\u001b[1;32m   2058\u001b[0m         \u001b[0;32melse\u001b[0m\u001b[0;34m:\u001b[0m\u001b[0;34m\u001b[0m\u001b[0m\n\u001b[0;32m-> 2059\u001b[0;31m             \u001b[0;32mreturn\u001b[0m \u001b[0mself\u001b[0m\u001b[0;34m.\u001b[0m\u001b[0m_getitem_column\u001b[0m\u001b[0;34m(\u001b[0m\u001b[0mkey\u001b[0m\u001b[0;34m)\u001b[0m\u001b[0;34m\u001b[0m\u001b[0m\n\u001b[0m\u001b[1;32m   2060\u001b[0m \u001b[0;34m\u001b[0m\u001b[0m\n\u001b[1;32m   2061\u001b[0m     \u001b[0;32mdef\u001b[0m \u001b[0m_getitem_column\u001b[0m\u001b[0;34m(\u001b[0m\u001b[0mself\u001b[0m\u001b[0;34m,\u001b[0m \u001b[0mkey\u001b[0m\u001b[0;34m)\u001b[0m\u001b[0;34m:\u001b[0m\u001b[0;34m\u001b[0m\u001b[0m\n",
      "\u001b[0;32m/usr/local/lib/python3.5/site-packages/pandas/core/frame.py\u001b[0m in \u001b[0;36m_getitem_column\u001b[0;34m(self, key)\u001b[0m\n\u001b[1;32m   2064\u001b[0m         \u001b[0;31m# get column\u001b[0m\u001b[0;34m\u001b[0m\u001b[0;34m\u001b[0m\u001b[0m\n\u001b[1;32m   2065\u001b[0m         \u001b[0;32mif\u001b[0m \u001b[0mself\u001b[0m\u001b[0;34m.\u001b[0m\u001b[0mcolumns\u001b[0m\u001b[0;34m.\u001b[0m\u001b[0mis_unique\u001b[0m\u001b[0;34m:\u001b[0m\u001b[0;34m\u001b[0m\u001b[0m\n\u001b[0;32m-> 2066\u001b[0;31m             \u001b[0;32mreturn\u001b[0m \u001b[0mself\u001b[0m\u001b[0;34m.\u001b[0m\u001b[0m_get_item_cache\u001b[0m\u001b[0;34m(\u001b[0m\u001b[0mkey\u001b[0m\u001b[0;34m)\u001b[0m\u001b[0;34m\u001b[0m\u001b[0m\n\u001b[0m\u001b[1;32m   2067\u001b[0m \u001b[0;34m\u001b[0m\u001b[0m\n\u001b[1;32m   2068\u001b[0m         \u001b[0;31m# duplicate columns & possible reduce dimensionality\u001b[0m\u001b[0;34m\u001b[0m\u001b[0;34m\u001b[0m\u001b[0m\n",
      "\u001b[0;32m/usr/local/lib/python3.5/site-packages/pandas/core/generic.py\u001b[0m in \u001b[0;36m_get_item_cache\u001b[0;34m(self, item)\u001b[0m\n\u001b[1;32m   1384\u001b[0m         \u001b[0mres\u001b[0m \u001b[0;34m=\u001b[0m \u001b[0mcache\u001b[0m\u001b[0;34m.\u001b[0m\u001b[0mget\u001b[0m\u001b[0;34m(\u001b[0m\u001b[0mitem\u001b[0m\u001b[0;34m)\u001b[0m\u001b[0;34m\u001b[0m\u001b[0m\n\u001b[1;32m   1385\u001b[0m         \u001b[0;32mif\u001b[0m \u001b[0mres\u001b[0m \u001b[0;32mis\u001b[0m \u001b[0;32mNone\u001b[0m\u001b[0;34m:\u001b[0m\u001b[0;34m\u001b[0m\u001b[0m\n\u001b[0;32m-> 1386\u001b[0;31m             \u001b[0mvalues\u001b[0m \u001b[0;34m=\u001b[0m \u001b[0mself\u001b[0m\u001b[0;34m.\u001b[0m\u001b[0m_data\u001b[0m\u001b[0;34m.\u001b[0m\u001b[0mget\u001b[0m\u001b[0;34m(\u001b[0m\u001b[0mitem\u001b[0m\u001b[0;34m)\u001b[0m\u001b[0;34m\u001b[0m\u001b[0m\n\u001b[0m\u001b[1;32m   1387\u001b[0m             \u001b[0mres\u001b[0m \u001b[0;34m=\u001b[0m \u001b[0mself\u001b[0m\u001b[0;34m.\u001b[0m\u001b[0m_box_item_values\u001b[0m\u001b[0;34m(\u001b[0m\u001b[0mitem\u001b[0m\u001b[0;34m,\u001b[0m \u001b[0mvalues\u001b[0m\u001b[0;34m)\u001b[0m\u001b[0;34m\u001b[0m\u001b[0m\n\u001b[1;32m   1388\u001b[0m             \u001b[0mcache\u001b[0m\u001b[0;34m[\u001b[0m\u001b[0mitem\u001b[0m\u001b[0;34m]\u001b[0m \u001b[0;34m=\u001b[0m \u001b[0mres\u001b[0m\u001b[0;34m\u001b[0m\u001b[0m\n",
      "\u001b[0;32m/usr/local/lib/python3.5/site-packages/pandas/core/internals.py\u001b[0m in \u001b[0;36mget\u001b[0;34m(self, item, fastpath)\u001b[0m\n\u001b[1;32m   3541\u001b[0m \u001b[0;34m\u001b[0m\u001b[0m\n\u001b[1;32m   3542\u001b[0m             \u001b[0;32mif\u001b[0m \u001b[0;32mnot\u001b[0m \u001b[0misnull\u001b[0m\u001b[0;34m(\u001b[0m\u001b[0mitem\u001b[0m\u001b[0;34m)\u001b[0m\u001b[0;34m:\u001b[0m\u001b[0;34m\u001b[0m\u001b[0m\n\u001b[0;32m-> 3543\u001b[0;31m                 \u001b[0mloc\u001b[0m \u001b[0;34m=\u001b[0m \u001b[0mself\u001b[0m\u001b[0;34m.\u001b[0m\u001b[0mitems\u001b[0m\u001b[0;34m.\u001b[0m\u001b[0mget_loc\u001b[0m\u001b[0;34m(\u001b[0m\u001b[0mitem\u001b[0m\u001b[0;34m)\u001b[0m\u001b[0;34m\u001b[0m\u001b[0m\n\u001b[0m\u001b[1;32m   3544\u001b[0m             \u001b[0;32melse\u001b[0m\u001b[0;34m:\u001b[0m\u001b[0;34m\u001b[0m\u001b[0m\n\u001b[1;32m   3545\u001b[0m                 \u001b[0mindexer\u001b[0m \u001b[0;34m=\u001b[0m \u001b[0mnp\u001b[0m\u001b[0;34m.\u001b[0m\u001b[0marange\u001b[0m\u001b[0;34m(\u001b[0m\u001b[0mlen\u001b[0m\u001b[0;34m(\u001b[0m\u001b[0mself\u001b[0m\u001b[0;34m.\u001b[0m\u001b[0mitems\u001b[0m\u001b[0;34m)\u001b[0m\u001b[0;34m)\u001b[0m\u001b[0;34m[\u001b[0m\u001b[0misnull\u001b[0m\u001b[0;34m(\u001b[0m\u001b[0mself\u001b[0m\u001b[0;34m.\u001b[0m\u001b[0mitems\u001b[0m\u001b[0;34m)\u001b[0m\u001b[0;34m]\u001b[0m\u001b[0;34m\u001b[0m\u001b[0m\n",
      "\u001b[0;32m/usr/local/lib/python3.5/site-packages/pandas/indexes/base.py\u001b[0m in \u001b[0;36mget_loc\u001b[0;34m(self, key, method, tolerance)\u001b[0m\n\u001b[1;32m   2134\u001b[0m                 \u001b[0;32mreturn\u001b[0m \u001b[0mself\u001b[0m\u001b[0;34m.\u001b[0m\u001b[0m_engine\u001b[0m\u001b[0;34m.\u001b[0m\u001b[0mget_loc\u001b[0m\u001b[0;34m(\u001b[0m\u001b[0mkey\u001b[0m\u001b[0;34m)\u001b[0m\u001b[0;34m\u001b[0m\u001b[0m\n\u001b[1;32m   2135\u001b[0m             \u001b[0;32mexcept\u001b[0m \u001b[0mKeyError\u001b[0m\u001b[0;34m:\u001b[0m\u001b[0;34m\u001b[0m\u001b[0m\n\u001b[0;32m-> 2136\u001b[0;31m                 \u001b[0;32mreturn\u001b[0m \u001b[0mself\u001b[0m\u001b[0;34m.\u001b[0m\u001b[0m_engine\u001b[0m\u001b[0;34m.\u001b[0m\u001b[0mget_loc\u001b[0m\u001b[0;34m(\u001b[0m\u001b[0mself\u001b[0m\u001b[0;34m.\u001b[0m\u001b[0m_maybe_cast_indexer\u001b[0m\u001b[0;34m(\u001b[0m\u001b[0mkey\u001b[0m\u001b[0;34m)\u001b[0m\u001b[0;34m)\u001b[0m\u001b[0;34m\u001b[0m\u001b[0m\n\u001b[0m\u001b[1;32m   2137\u001b[0m \u001b[0;34m\u001b[0m\u001b[0m\n\u001b[1;32m   2138\u001b[0m         \u001b[0mindexer\u001b[0m \u001b[0;34m=\u001b[0m \u001b[0mself\u001b[0m\u001b[0;34m.\u001b[0m\u001b[0mget_indexer\u001b[0m\u001b[0;34m(\u001b[0m\u001b[0;34m[\u001b[0m\u001b[0mkey\u001b[0m\u001b[0;34m]\u001b[0m\u001b[0;34m,\u001b[0m \u001b[0mmethod\u001b[0m\u001b[0;34m=\u001b[0m\u001b[0mmethod\u001b[0m\u001b[0;34m,\u001b[0m \u001b[0mtolerance\u001b[0m\u001b[0;34m=\u001b[0m\u001b[0mtolerance\u001b[0m\u001b[0;34m)\u001b[0m\u001b[0;34m\u001b[0m\u001b[0m\n",
      "\u001b[0;32mpandas/index.pyx\u001b[0m in \u001b[0;36mpandas.index.IndexEngine.get_loc (pandas/index.c:4433)\u001b[0;34m()\u001b[0m\n",
      "\u001b[0;32mpandas/index.pyx\u001b[0m in \u001b[0;36mpandas.index.IndexEngine.get_loc (pandas/index.c:4279)\u001b[0;34m()\u001b[0m\n",
      "\u001b[0;32mpandas/src/hashtable_class_helper.pxi\u001b[0m in \u001b[0;36mpandas.hashtable.PyObjectHashTable.get_item (pandas/hashtable.c:13742)\u001b[0;34m()\u001b[0m\n",
      "\u001b[0;32mpandas/src/hashtable_class_helper.pxi\u001b[0m in \u001b[0;36mpandas.hashtable.PyObjectHashTable.get_item (pandas/hashtable.c:13696)\u001b[0;34m()\u001b[0m\n",
      "\u001b[0;31mKeyError\u001b[0m: 11"
     ]
    }
   ],
   "source": [
    "dot_data = tree.export_graphviz(clf, out_file=None, \n",
    "                         feature_names=x,\n",
    "                         class_names=y,  \n",
    "                         filled=True, rounded=True,\n",
    "                         special_characters=True)"
   ]
  },
  {
   "cell_type": "code",
   "execution_count": 107,
   "metadata": {
    "collapsed": false
   },
   "outputs": [
    {
     "data": {
      "text/html": [
       "<div>\n",
       "<table border=\"1\" class=\"dataframe\">\n",
       "  <thead>\n",
       "    <tr style=\"text-align: right;\">\n",
       "      <th></th>\n",
       "      <th>CBS_Class</th>\n",
       "      <th>CBS_MY_Order</th>\n",
       "      <th>CBS_MY_Rate</th>\n",
       "      <th>CBS_XS_MY</th>\n",
       "      <th>CBS_DXPZ</th>\n",
       "      <th>CBS_XSCS</th>\n",
       "      <th>CBS_CRTAX</th>\n",
       "      <th>Book_Class</th>\n",
       "      <th>CBS_BK_Average_price</th>\n",
       "      <th>CBS_BK_MY_Order</th>\n",
       "      <th>...</th>\n",
       "      <th>FXS_Class</th>\n",
       "      <th>User_Area</th>\n",
       "      <th>User_Get_Price</th>\n",
       "      <th>FXS_Discount</th>\n",
       "      <th>FXS_BK_MY_Order</th>\n",
       "      <th>FXS_BK_MY_Rate</th>\n",
       "      <th>FXS_BK_MY</th>\n",
       "      <th>FXS_BK_DXPZ</th>\n",
       "      <th>FXS_BK_XSCS</th>\n",
       "      <th>FXS_BK_Average_Price</th>\n",
       "    </tr>\n",
       "  </thead>\n",
       "  <tbody>\n",
       "    <tr>\n",
       "      <th>0</th>\n",
       "      <td>1</td>\n",
       "      <td>11</td>\n",
       "      <td>1.0934</td>\n",
       "      <td>90678033.8</td>\n",
       "      <td>2921</td>\n",
       "      <td>2357742</td>\n",
       "      <td>0.07</td>\n",
       "      <td>1</td>\n",
       "      <td>34.83</td>\n",
       "      <td>3</td>\n",
       "      <td>...</td>\n",
       "      <td>3</td>\n",
       "      <td>2</td>\n",
       "      <td>9.0</td>\n",
       "      <td>0.585</td>\n",
       "      <td>2</td>\n",
       "      <td>3.4196</td>\n",
       "      <td>15289978.1</td>\n",
       "      <td>1579</td>\n",
       "      <td>426206</td>\n",
       "      <td>35.87</td>\n",
       "    </tr>\n",
       "    <tr>\n",
       "      <th>1</th>\n",
       "      <td>1</td>\n",
       "      <td>11</td>\n",
       "      <td>1.0934</td>\n",
       "      <td>90678033.8</td>\n",
       "      <td>2921</td>\n",
       "      <td>2357742</td>\n",
       "      <td>0.07</td>\n",
       "      <td>6</td>\n",
       "      <td>17.75</td>\n",
       "      <td>515</td>\n",
       "      <td>...</td>\n",
       "      <td>3</td>\n",
       "      <td>2</td>\n",
       "      <td>9.0</td>\n",
       "      <td>0.585</td>\n",
       "      <td>484</td>\n",
       "      <td>0.0000</td>\n",
       "      <td>36.0</td>\n",
       "      <td>1</td>\n",
       "      <td>2</td>\n",
       "      <td>18.00</td>\n",
       "    </tr>\n",
       "    <tr>\n",
       "      <th>2</th>\n",
       "      <td>1</td>\n",
       "      <td>11</td>\n",
       "      <td>1.0934</td>\n",
       "      <td>90678033.8</td>\n",
       "      <td>2921</td>\n",
       "      <td>2357742</td>\n",
       "      <td>0.08</td>\n",
       "      <td>5</td>\n",
       "      <td>32.51</td>\n",
       "      <td>258</td>\n",
       "      <td>...</td>\n",
       "      <td>3</td>\n",
       "      <td>2</td>\n",
       "      <td>9.0</td>\n",
       "      <td>0.585</td>\n",
       "      <td>235</td>\n",
       "      <td>0.0099</td>\n",
       "      <td>15346.0</td>\n",
       "      <td>7</td>\n",
       "      <td>478</td>\n",
       "      <td>32.10</td>\n",
       "    </tr>\n",
       "    <tr>\n",
       "      <th>3</th>\n",
       "      <td>1</td>\n",
       "      <td>11</td>\n",
       "      <td>1.0934</td>\n",
       "      <td>90678033.8</td>\n",
       "      <td>2921</td>\n",
       "      <td>2357742</td>\n",
       "      <td>0.07</td>\n",
       "      <td>3</td>\n",
       "      <td>47.25</td>\n",
       "      <td>3</td>\n",
       "      <td>...</td>\n",
       "      <td>3</td>\n",
       "      <td>2</td>\n",
       "      <td>9.0</td>\n",
       "      <td>0.585</td>\n",
       "      <td>3</td>\n",
       "      <td>3.1915</td>\n",
       "      <td>10890168.2</td>\n",
       "      <td>405</td>\n",
       "      <td>232732</td>\n",
       "      <td>46.79</td>\n",
       "    </tr>\n",
       "    <tr>\n",
       "      <th>4</th>\n",
       "      <td>1</td>\n",
       "      <td>11</td>\n",
       "      <td>1.0934</td>\n",
       "      <td>90678033.8</td>\n",
       "      <td>2921</td>\n",
       "      <td>2357742</td>\n",
       "      <td>0.08</td>\n",
       "      <td>7</td>\n",
       "      <td>60.70</td>\n",
       "      <td>191</td>\n",
       "      <td>...</td>\n",
       "      <td>3</td>\n",
       "      <td>2</td>\n",
       "      <td>9.0</td>\n",
       "      <td>0.585</td>\n",
       "      <td>181</td>\n",
       "      <td>0.0240</td>\n",
       "      <td>59391.0</td>\n",
       "      <td>21</td>\n",
       "      <td>1022</td>\n",
       "      <td>58.11</td>\n",
       "    </tr>\n",
       "  </tbody>\n",
       "</table>\n",
       "<p>5 rows × 23 columns</p>\n",
       "</div>"
      ],
      "text/plain": [
       "   CBS_Class  CBS_MY_Order  CBS_MY_Rate   CBS_XS_MY  CBS_DXPZ  CBS_XSCS  \\\n",
       "0          1            11       1.0934  90678033.8      2921   2357742   \n",
       "1          1            11       1.0934  90678033.8      2921   2357742   \n",
       "2          1            11       1.0934  90678033.8      2921   2357742   \n",
       "3          1            11       1.0934  90678033.8      2921   2357742   \n",
       "4          1            11       1.0934  90678033.8      2921   2357742   \n",
       "\n",
       "   CBS_CRTAX  Book_Class  CBS_BK_Average_price  CBS_BK_MY_Order  \\\n",
       "0       0.07           1                 34.83                3   \n",
       "1       0.07           6                 17.75              515   \n",
       "2       0.08           5                 32.51              258   \n",
       "3       0.07           3                 47.25                3   \n",
       "4       0.08           7                 60.70              191   \n",
       "\n",
       "           ...           FXS_Class  User_Area  User_Get_Price  FXS_Discount  \\\n",
       "0          ...                   3          2             9.0         0.585   \n",
       "1          ...                   3          2             9.0         0.585   \n",
       "2          ...                   3          2             9.0         0.585   \n",
       "3          ...                   3          2             9.0         0.585   \n",
       "4          ...                   3          2             9.0         0.585   \n",
       "\n",
       "   FXS_BK_MY_Order  FXS_BK_MY_Rate   FXS_BK_MY  FXS_BK_DXPZ  FXS_BK_XSCS  \\\n",
       "0                2          3.4196  15289978.1         1579       426206   \n",
       "1              484          0.0000        36.0            1            2   \n",
       "2              235          0.0099     15346.0            7          478   \n",
       "3                3          3.1915  10890168.2          405       232732   \n",
       "4              181          0.0240     59391.0           21         1022   \n",
       "\n",
       "   FXS_BK_Average_Price  \n",
       "0                 35.87  \n",
       "1                 18.00  \n",
       "2                 32.10  \n",
       "3                 46.79  \n",
       "4                 58.11  \n",
       "\n",
       "[5 rows x 23 columns]"
      ]
     },
     "execution_count": 107,
     "metadata": {},
     "output_type": "execute_result"
    }
   ],
   "source": [
    "x.head()"
   ]
  },
  {
   "cell_type": "code",
   "execution_count": 111,
   "metadata": {
    "collapsed": false
   },
   "outputs": [
    {
     "ename": "ValueError",
     "evalue": "could not convert string to float: 'Book_Class'",
     "output_type": "error",
     "traceback": [
      "\u001b[0;31m---------------------------------------------------------------------------\u001b[0m",
      "\u001b[0;31mValueError\u001b[0m                                Traceback (most recent call last)",
      "\u001b[0;32m<ipython-input-111-e2ae81977a86>\u001b[0m in \u001b[0;36m<module>\u001b[0;34m()\u001b[0m\n\u001b[0;32m----> 1\u001b[0;31m \u001b[0mclf\u001b[0m\u001b[0;34m.\u001b[0m\u001b[0mpredict\u001b[0m\u001b[0;34m(\u001b[0m\u001b[0;34m[\u001b[0m\u001b[0;34m[\u001b[0m\u001b[0;36m1\u001b[0m\u001b[0;34m,\u001b[0m\u001b[0;36m11\u001b[0m\u001b[0;34m,\u001b[0m\u001b[0;36m1.0934\u001b[0m\u001b[0;34m,\u001b[0m\u001b[0;36m90678033.8\u001b[0m\u001b[0;34m,\u001b[0m\u001b[0;36m2921\u001b[0m\u001b[0;34m,\u001b[0m \u001b[0;36m2357742\u001b[0m\u001b[0;34m,\u001b[0m\u001b[0;36m0.07\u001b[0m\u001b[0;34m,\u001b[0m \u001b[0;34m\"Book_Class\"\u001b[0m\u001b[0;34m,\u001b[0m \u001b[0;36m34.83\u001b[0m\u001b[0;34m,\u001b[0m \u001b[0;36m3\u001b[0m\u001b[0;34m,\u001b[0m \u001b[0;36m1\u001b[0m\u001b[0;34m,\u001b[0m\u001b[0;36m1\u001b[0m\u001b[0;34m,\u001b[0m\u001b[0;36m1\u001b[0m\u001b[0;34m,\u001b[0m\u001b[0;36m1\u001b[0m\u001b[0;34m,\u001b[0m\u001b[0;36m1\u001b[0m\u001b[0;34m,\u001b[0m\u001b[0;36m1\u001b[0m\u001b[0;34m,\u001b[0m\u001b[0;36m1\u001b[0m\u001b[0;34m,\u001b[0m\u001b[0;36m1\u001b[0m\u001b[0;34m,\u001b[0m\u001b[0;36m1\u001b[0m\u001b[0;34m,\u001b[0m\u001b[0;36m1\u001b[0m\u001b[0;34m,\u001b[0m\u001b[0;36m1\u001b[0m\u001b[0;34m,\u001b[0m\u001b[0;36m1\u001b[0m\u001b[0;34m,\u001b[0m\u001b[0;36m1\u001b[0m\u001b[0;34m]\u001b[0m\u001b[0;34m]\u001b[0m\u001b[0;34m)\u001b[0m\u001b[0;34m\u001b[0m\u001b[0m\n\u001b[0m",
      "\u001b[0;32m/usr/local/lib/python3.5/site-packages/sklearn/tree/tree.py\u001b[0m in \u001b[0;36mpredict\u001b[0;34m(self, X, check_input)\u001b[0m\n\u001b[1;32m    402\u001b[0m         \"\"\"\n\u001b[1;32m    403\u001b[0m \u001b[0;34m\u001b[0m\u001b[0m\n\u001b[0;32m--> 404\u001b[0;31m         \u001b[0mX\u001b[0m \u001b[0;34m=\u001b[0m \u001b[0mself\u001b[0m\u001b[0;34m.\u001b[0m\u001b[0m_validate_X_predict\u001b[0m\u001b[0;34m(\u001b[0m\u001b[0mX\u001b[0m\u001b[0;34m,\u001b[0m \u001b[0mcheck_input\u001b[0m\u001b[0;34m)\u001b[0m\u001b[0;34m\u001b[0m\u001b[0m\n\u001b[0m\u001b[1;32m    405\u001b[0m         \u001b[0mproba\u001b[0m \u001b[0;34m=\u001b[0m \u001b[0mself\u001b[0m\u001b[0;34m.\u001b[0m\u001b[0mtree_\u001b[0m\u001b[0;34m.\u001b[0m\u001b[0mpredict\u001b[0m\u001b[0;34m(\u001b[0m\u001b[0mX\u001b[0m\u001b[0;34m)\u001b[0m\u001b[0;34m\u001b[0m\u001b[0m\n\u001b[1;32m    406\u001b[0m         \u001b[0mn_samples\u001b[0m \u001b[0;34m=\u001b[0m \u001b[0mX\u001b[0m\u001b[0;34m.\u001b[0m\u001b[0mshape\u001b[0m\u001b[0;34m[\u001b[0m\u001b[0;36m0\u001b[0m\u001b[0;34m]\u001b[0m\u001b[0;34m\u001b[0m\u001b[0m\n",
      "\u001b[0;32m/usr/local/lib/python3.5/site-packages/sklearn/tree/tree.py\u001b[0m in \u001b[0;36m_validate_X_predict\u001b[0;34m(self, X, check_input)\u001b[0m\n\u001b[1;32m    363\u001b[0m \u001b[0;34m\u001b[0m\u001b[0m\n\u001b[1;32m    364\u001b[0m         \u001b[0;32mif\u001b[0m \u001b[0mcheck_input\u001b[0m\u001b[0;34m:\u001b[0m\u001b[0;34m\u001b[0m\u001b[0m\n\u001b[0;32m--> 365\u001b[0;31m             \u001b[0mX\u001b[0m \u001b[0;34m=\u001b[0m \u001b[0mcheck_array\u001b[0m\u001b[0;34m(\u001b[0m\u001b[0mX\u001b[0m\u001b[0;34m,\u001b[0m \u001b[0mdtype\u001b[0m\u001b[0;34m=\u001b[0m\u001b[0mDTYPE\u001b[0m\u001b[0;34m,\u001b[0m \u001b[0maccept_sparse\u001b[0m\u001b[0;34m=\u001b[0m\u001b[0;34m\"csr\"\u001b[0m\u001b[0;34m)\u001b[0m\u001b[0;34m\u001b[0m\u001b[0m\n\u001b[0m\u001b[1;32m    366\u001b[0m             if issparse(X) and (X.indices.dtype != np.intc or\n\u001b[1;32m    367\u001b[0m                                 X.indptr.dtype != np.intc):\n",
      "\u001b[0;32m/usr/local/lib/python3.5/site-packages/sklearn/utils/validation.py\u001b[0m in \u001b[0;36mcheck_array\u001b[0;34m(array, accept_sparse, dtype, order, copy, force_all_finite, ensure_2d, allow_nd, ensure_min_samples, ensure_min_features, warn_on_dtype, estimator)\u001b[0m\n\u001b[1;32m    380\u001b[0m                                       force_all_finite)\n\u001b[1;32m    381\u001b[0m     \u001b[0;32melse\u001b[0m\u001b[0;34m:\u001b[0m\u001b[0;34m\u001b[0m\u001b[0m\n\u001b[0;32m--> 382\u001b[0;31m         \u001b[0marray\u001b[0m \u001b[0;34m=\u001b[0m \u001b[0mnp\u001b[0m\u001b[0;34m.\u001b[0m\u001b[0marray\u001b[0m\u001b[0;34m(\u001b[0m\u001b[0marray\u001b[0m\u001b[0;34m,\u001b[0m \u001b[0mdtype\u001b[0m\u001b[0;34m=\u001b[0m\u001b[0mdtype\u001b[0m\u001b[0;34m,\u001b[0m \u001b[0morder\u001b[0m\u001b[0;34m=\u001b[0m\u001b[0morder\u001b[0m\u001b[0;34m,\u001b[0m \u001b[0mcopy\u001b[0m\u001b[0;34m=\u001b[0m\u001b[0mcopy\u001b[0m\u001b[0;34m)\u001b[0m\u001b[0;34m\u001b[0m\u001b[0m\n\u001b[0m\u001b[1;32m    383\u001b[0m \u001b[0;34m\u001b[0m\u001b[0m\n\u001b[1;32m    384\u001b[0m         \u001b[0;32mif\u001b[0m \u001b[0mensure_2d\u001b[0m\u001b[0;34m:\u001b[0m\u001b[0;34m\u001b[0m\u001b[0m\n",
      "\u001b[0;31mValueError\u001b[0m: could not convert string to float: 'Book_Class'"
     ]
    }
   ],
   "source": [
    "clf.predict([[1,11,1.0934,90678033.8,2921, 2357742,0.07, 1, 34.83, 3, 1,1,1,1,1,1,1,1,1,1,1,1,1]])"
   ]
  },
  {
   "cell_type": "code",
   "execution_count": 110,
   "metadata": {
    "collapsed": false
   },
   "outputs": [
    {
     "data": {
      "text/plain": [
       "array([2])"
      ]
     },
     "execution_count": 110,
     "metadata": {},
     "output_type": "execute_result"
    }
   ],
   "source": [
    "clf.predict([[1,11,1.0934,90678033.8,2921, 2357742,0.07, 1, 34.83, 3, 1,1,1,1,1,1,1,1,1,1,1,1,1]])"
   ]
  },
  {
   "cell_type": "code",
   "execution_count": 116,
   "metadata": {
    "collapsed": false
   },
   "outputs": [
    {
     "name": "stdout",
     "output_type": "stream",
     "text": [
      "CBS_Class                 int64\n",
      "CBS_MY_Order              int64\n",
      "CBS_MY_Rate             float64\n",
      "CBS_XS_MY               float64\n",
      "CBS_DXPZ                  int64\n",
      "CBS_XSCS                  int64\n",
      "CBS_CRTAX               float64\n",
      "Book_Class                int64\n",
      "CBS_BK_Average_price    float64\n",
      "CBS_BK_MY_Order           int64\n",
      "CBS_BK_MY_Rate          float64\n",
      "CBS_BK_XS_MY            float64\n",
      "CBS_BK_DXPZ               int64\n",
      "FXS_Class                 int64\n",
      "User_Area                 int64\n",
      "User_Get_Price          float64\n",
      "FXS_Discount            float64\n",
      "FXS_BK_MY_Order           int64\n",
      "FXS_BK_MY_Rate          float64\n",
      "FXS_BK_MY               float64\n",
      "FXS_BK_DXPZ               int64\n",
      "FXS_BK_XSCS               int64\n",
      "FXS_BK_Average_Price    float64\n",
      "dtype: object\n"
     ]
    }
   ],
   "source": [
    "print(x.dtypes)"
   ]
  },
  {
   "cell_type": "code",
   "execution_count": 117,
   "metadata": {
    "collapsed": false
   },
   "outputs": [
    {
     "name": "stdout",
     "output_type": "stream",
     "text": [
      "NO                        int64\n",
      "Year                      int64\n",
      "CBS_NAME                 object\n",
      "CBS_Class                object\n",
      "CBS_MY_Order              int64\n",
      "CBS_MY_Rate             float64\n",
      "CBS_XS_MY               float64\n",
      "CBS_DXPZ                  int64\n",
      "CBS_XSCS                  int64\n",
      "CBS_CRTAX               float64\n",
      "Book_Class               object\n",
      "CBS_BK_Average_price    float64\n",
      "CBS_BK_MY_Order           int64\n",
      "CBS_BK_MY_Rate          float64\n",
      "CBS_BK_XS_MY            float64\n",
      "CBS_BK_DXPZ               int64\n",
      "CBS_BK_XSCS               int64\n",
      "FXS_Class                object\n",
      "User_Area                object\n",
      "User_Get_Price          float64\n",
      "FXS_Discount            float64\n",
      "FXS_BK_MY_Order           int64\n",
      "FXS_BK_MY_Rate          float64\n",
      "FXS_BK_MY               float64\n",
      "FXS_BK_DXPZ               int64\n",
      "FXS_BK_XSCS               int64\n",
      "FXS_BK_Average_Price    float64\n",
      "Unnamed: 27             float64\n",
      "dtype: object\n"
     ]
    }
   ],
   "source": [
    "print(book.dtypes)"
   ]
  },
  {
   "cell_type": "code",
   "execution_count": 122,
   "metadata": {
    "collapsed": true
   },
   "outputs": [],
   "source": [
    "xm = x.as_matrix()"
   ]
  },
  {
   "cell_type": "code",
   "execution_count": 123,
   "metadata": {
    "collapsed": false
   },
   "outputs": [
    {
     "data": {
      "text/plain": [
       "numpy.ndarray"
      ]
     },
     "execution_count": 123,
     "metadata": {},
     "output_type": "execute_result"
    }
   ],
   "source": [
    "type(xm)"
   ]
  },
  {
   "cell_type": "markdown",
   "metadata": {},
   "source": [
    "xm"
   ]
  },
  {
   "cell_type": "code",
   "execution_count": 125,
   "metadata": {
    "collapsed": true
   },
   "outputs": [],
   "source": [
    "ym = y.as_matrix()"
   ]
  },
  {
   "cell_type": "code",
   "execution_count": 140,
   "metadata": {
    "collapsed": true
   },
   "outputs": [],
   "source": [
    "clf = tree.DecisionTreeClassifier()\n",
    "clf = clf.fit(x, y)"
   ]
  },
  {
   "cell_type": "code",
   "execution_count": 141,
   "metadata": {
    "collapsed": false
   },
   "outputs": [
    {
     "ename": "IndexError",
     "evalue": "list index out of range",
     "output_type": "error",
     "traceback": [
      "\u001b[0;31m---------------------------------------------------------------------------\u001b[0m",
      "\u001b[0;31mIndexError\u001b[0m                                Traceback (most recent call last)",
      "\u001b[0;32m<ipython-input-141-e1999297aabf>\u001b[0m in \u001b[0;36m<module>\u001b[0;34m()\u001b[0m\n\u001b[1;32m      3\u001b[0m                          \u001b[0mclass_names\u001b[0m\u001b[0;34m=\u001b[0m\u001b[0my\u001b[0m\u001b[0;34m.\u001b[0m\u001b[0mcolumns\u001b[0m\u001b[0;34m.\u001b[0m\u001b[0mtolist\u001b[0m\u001b[0;34m(\u001b[0m\u001b[0;34m)\u001b[0m\u001b[0;34m,\u001b[0m\u001b[0;34m\u001b[0m\u001b[0m\n\u001b[1;32m      4\u001b[0m                          \u001b[0mfilled\u001b[0m\u001b[0;34m=\u001b[0m\u001b[0;32mTrue\u001b[0m\u001b[0;34m,\u001b[0m \u001b[0mrounded\u001b[0m\u001b[0;34m=\u001b[0m\u001b[0;32mTrue\u001b[0m\u001b[0;34m,\u001b[0m\u001b[0;34m\u001b[0m\u001b[0m\n\u001b[0;32m----> 5\u001b[0;31m                          special_characters=True)\n\u001b[0m",
      "\u001b[0;32m/usr/local/lib/python3.5/site-packages/sklearn/tree/export.py\u001b[0m in \u001b[0;36mexport_graphviz\u001b[0;34m(decision_tree, out_file, max_depth, feature_names, class_names, label, filled, leaves_parallel, impurity, node_ids, proportion, rotate, rounded, special_characters)\u001b[0m\n\u001b[1;32m    431\u001b[0m             \u001b[0mrecurse\u001b[0m\u001b[0;34m(\u001b[0m\u001b[0mdecision_tree\u001b[0m\u001b[0;34m,\u001b[0m \u001b[0;36m0\u001b[0m\u001b[0;34m,\u001b[0m \u001b[0mcriterion\u001b[0m\u001b[0;34m=\u001b[0m\u001b[0;34m\"impurity\"\u001b[0m\u001b[0;34m)\u001b[0m\u001b[0;34m\u001b[0m\u001b[0m\n\u001b[1;32m    432\u001b[0m         \u001b[0;32melse\u001b[0m\u001b[0;34m:\u001b[0m\u001b[0;34m\u001b[0m\u001b[0m\n\u001b[0;32m--> 433\u001b[0;31m             \u001b[0mrecurse\u001b[0m\u001b[0;34m(\u001b[0m\u001b[0mdecision_tree\u001b[0m\u001b[0;34m.\u001b[0m\u001b[0mtree_\u001b[0m\u001b[0;34m,\u001b[0m \u001b[0;36m0\u001b[0m\u001b[0;34m,\u001b[0m \u001b[0mcriterion\u001b[0m\u001b[0;34m=\u001b[0m\u001b[0mdecision_tree\u001b[0m\u001b[0;34m.\u001b[0m\u001b[0mcriterion\u001b[0m\u001b[0;34m)\u001b[0m\u001b[0;34m\u001b[0m\u001b[0m\n\u001b[0m\u001b[1;32m    434\u001b[0m \u001b[0;34m\u001b[0m\u001b[0m\n\u001b[1;32m    435\u001b[0m         \u001b[0;31m# If required, draw leaf nodes at same depth as each other\u001b[0m\u001b[0;34m\u001b[0m\u001b[0;34m\u001b[0m\u001b[0m\n",
      "\u001b[0;32m/usr/local/lib/python3.5/site-packages/sklearn/tree/export.py\u001b[0m in \u001b[0;36mrecurse\u001b[0;34m(tree, node_id, criterion, parent, depth)\u001b[0m\n\u001b[1;32m    319\u001b[0m             out_file.write('%d [label=%s'\n\u001b[1;32m    320\u001b[0m                            % (node_id,\n\u001b[0;32m--> 321\u001b[0;31m                               node_to_str(tree, node_id, criterion)))\n\u001b[0m\u001b[1;32m    322\u001b[0m \u001b[0;34m\u001b[0m\u001b[0m\n\u001b[1;32m    323\u001b[0m             \u001b[0;32mif\u001b[0m \u001b[0mfilled\u001b[0m\u001b[0;34m:\u001b[0m\u001b[0;34m\u001b[0m\u001b[0m\n",
      "\u001b[0;32m/usr/local/lib/python3.5/site-packages/sklearn/tree/export.py\u001b[0m in \u001b[0;36mnode_to_str\u001b[0;34m(tree, node_id, criterion)\u001b[0m\n\u001b[1;32m    284\u001b[0m                 \u001b[0mnode_string\u001b[0m \u001b[0;34m+=\u001b[0m \u001b[0;34m'class = '\u001b[0m\u001b[0;34m\u001b[0m\u001b[0m\n\u001b[1;32m    285\u001b[0m             \u001b[0;32mif\u001b[0m \u001b[0mclass_names\u001b[0m \u001b[0;32mis\u001b[0m \u001b[0;32mnot\u001b[0m \u001b[0;32mTrue\u001b[0m\u001b[0;34m:\u001b[0m\u001b[0;34m\u001b[0m\u001b[0m\n\u001b[0;32m--> 286\u001b[0;31m                 \u001b[0mclass_name\u001b[0m \u001b[0;34m=\u001b[0m \u001b[0mclass_names\u001b[0m\u001b[0;34m[\u001b[0m\u001b[0mnp\u001b[0m\u001b[0;34m.\u001b[0m\u001b[0margmax\u001b[0m\u001b[0;34m(\u001b[0m\u001b[0mvalue\u001b[0m\u001b[0;34m)\u001b[0m\u001b[0;34m]\u001b[0m\u001b[0;34m\u001b[0m\u001b[0m\n\u001b[0m\u001b[1;32m    287\u001b[0m             \u001b[0;32melse\u001b[0m\u001b[0;34m:\u001b[0m\u001b[0;34m\u001b[0m\u001b[0m\n\u001b[1;32m    288\u001b[0m                 class_name = \"y%s%s%s\" % (characters[1],\n",
      "\u001b[0;31mIndexError\u001b[0m: list index out of range"
     ]
    }
   ],
   "source": [
    "dot_data = tree.export_graphviz(clf, out_file=None, \n",
    "                         feature_names=x.columns.tolist(),\n",
    "                         class_names=y.columns.tolist(),  \n",
    "                         filled=True, rounded=True,\n",
    "                         special_characters=True)"
   ]
  },
  {
   "cell_type": "code",
   "execution_count": 137,
   "metadata": {
    "collapsed": false
   },
   "outputs": [
    {
     "data": {
      "text/plain": [
       "['CBS_Class',\n",
       " 'CBS_MY_Order',\n",
       " 'CBS_MY_Rate',\n",
       " 'CBS_XS_MY',\n",
       " 'CBS_DXPZ',\n",
       " 'CBS_XSCS',\n",
       " 'CBS_CRTAX',\n",
       " 'Book_Class',\n",
       " 'CBS_BK_Average_price',\n",
       " 'CBS_BK_MY_Order',\n",
       " 'CBS_BK_MY_Rate',\n",
       " 'CBS_BK_XS_MY',\n",
       " 'CBS_BK_DXPZ',\n",
       " 'FXS_Class',\n",
       " 'User_Area',\n",
       " 'User_Get_Price',\n",
       " 'FXS_Discount',\n",
       " 'FXS_BK_MY_Order',\n",
       " 'FXS_BK_MY_Rate',\n",
       " 'FXS_BK_MY',\n",
       " 'FXS_BK_DXPZ',\n",
       " 'FXS_BK_XSCS',\n",
       " 'FXS_BK_Average_Price']"
      ]
     },
     "execution_count": 137,
     "metadata": {},
     "output_type": "execute_result"
    }
   ],
   "source": [
    "x.columns.tolist()"
   ]
  },
  {
   "cell_type": "code",
   "execution_count": 138,
   "metadata": {
    "collapsed": false
   },
   "outputs": [
    {
     "data": {
      "text/plain": [
       "['CBS_BK_XSCS']"
      ]
     },
     "execution_count": 138,
     "metadata": {},
     "output_type": "execute_result"
    }
   ],
   "source": [
    "y.columns.tolist()"
   ]
  },
  {
   "cell_type": "code",
   "execution_count": 142,
   "metadata": {
    "collapsed": false
   },
   "outputs": [
    {
     "data": {
      "text/plain": [
       "(4100, 23)"
      ]
     },
     "execution_count": 142,
     "metadata": {},
     "output_type": "execute_result"
    }
   ],
   "source": [
    "x.shape"
   ]
  },
  {
   "cell_type": "code",
   "execution_count": 143,
   "metadata": {
    "collapsed": false
   },
   "outputs": [
    {
     "data": {
      "text/plain": [
       "(4100, 1)"
      ]
     },
     "execution_count": 143,
     "metadata": {},
     "output_type": "execute_result"
    }
   ],
   "source": [
    "y.shape"
   ]
  },
  {
   "cell_type": "code",
   "execution_count": 144,
   "metadata": {
    "collapsed": false
   },
   "outputs": [
    {
     "data": {
      "text/plain": [
       "(23,)"
      ]
     },
     "execution_count": 144,
     "metadata": {},
     "output_type": "execute_result"
    }
   ],
   "source": [
    "x.columns.shape"
   ]
  },
  {
   "cell_type": "code",
   "execution_count": 145,
   "metadata": {
    "collapsed": false
   },
   "outputs": [
    {
     "data": {
      "text/plain": [
       "(1,)"
      ]
     },
     "execution_count": 145,
     "metadata": {},
     "output_type": "execute_result"
    }
   ],
   "source": [
    "y.columns.shape"
   ]
  },
  {
   "cell_type": "code",
   "execution_count": 146,
   "metadata": {
    "collapsed": false
   },
   "outputs": [
    {
     "data": {
      "text/html": [
       "<div>\n",
       "<table border=\"1\" class=\"dataframe\">\n",
       "  <thead>\n",
       "    <tr style=\"text-align: right;\">\n",
       "      <th></th>\n",
       "      <th>CBS_BK_XSCS</th>\n",
       "    </tr>\n",
       "  </thead>\n",
       "  <tbody>\n",
       "    <tr>\n",
       "      <th>0</th>\n",
       "      <td>1428330</td>\n",
       "    </tr>\n",
       "    <tr>\n",
       "      <th>1</th>\n",
       "      <td>16</td>\n",
       "    </tr>\n",
       "    <tr>\n",
       "      <th>2</th>\n",
       "      <td>1933</td>\n",
       "    </tr>\n",
       "    <tr>\n",
       "      <th>3</th>\n",
       "      <td>736560</td>\n",
       "    </tr>\n",
       "    <tr>\n",
       "      <th>4</th>\n",
       "      <td>3451</td>\n",
       "    </tr>\n",
       "  </tbody>\n",
       "</table>\n",
       "</div>"
      ],
      "text/plain": [
       "   CBS_BK_XSCS\n",
       "0      1428330\n",
       "1           16\n",
       "2         1933\n",
       "3       736560\n",
       "4         3451"
      ]
     },
     "execution_count": 146,
     "metadata": {},
     "output_type": "execute_result"
    }
   ],
   "source": [
    "y.head()"
   ]
  },
  {
   "cell_type": "code",
   "execution_count": 148,
   "metadata": {
    "collapsed": false
   },
   "outputs": [
    {
     "data": {
      "text/plain": [
       "232        10\n",
       "72          9\n",
       "2           9\n",
       "3406        9\n",
       "404         9\n",
       "1           8\n",
       "51          7\n",
       "10          6\n",
       "924362      5\n",
       "88774       5\n",
       "1663693     5\n",
       "66225       5\n",
       "19116       5\n",
       "8873        5\n",
       "129702      5\n",
       "98977       5\n",
       "31382       5\n",
       "100347      5\n",
       "565885      5\n",
       "31350       5\n",
       "1886960     5\n",
       "222025      5\n",
       "1061463     5\n",
       "589         5\n",
       "488007      5\n",
       "594495      5\n",
       "45619       5\n",
       "21035       5\n",
       "1020531     5\n",
       "291591      5\n",
       "           ..\n",
       "14          4\n",
       "20          4\n",
       "30          4\n",
       "225         4\n",
       "140         4\n",
       "510         4\n",
       "1379        4\n",
       "44809       4\n",
       "739         4\n",
       "834         4\n",
       "1386        4\n",
       "195         4\n",
       "222         4\n",
       "176         4\n",
       "197         4\n",
       "476         4\n",
       "168         4\n",
       "1209        4\n",
       "8           3\n",
       "12          3\n",
       "16          3\n",
       "40          3\n",
       "36          3\n",
       "48          3\n",
       "54          3\n",
       "108         3\n",
       "7           2\n",
       "3           2\n",
       "21          1\n",
       "11          1\n",
       "Name: CBS_BK_XSCS, dtype: int64"
      ]
     },
     "execution_count": 148,
     "metadata": {},
     "output_type": "execute_result"
    }
   ],
   "source": [
    "y[\"CBS_BK_XSCS\"].value_counts()"
   ]
  },
  {
   "cell_type": "code",
   "execution_count": 150,
   "metadata": {
    "collapsed": false
   },
   "outputs": [
    {
     "ename": "IndexError",
     "evalue": "single positional indexer is out-of-bounds",
     "output_type": "error",
     "traceback": [
      "\u001b[0;31m---------------------------------------------------------------------------\u001b[0m",
      "\u001b[0;31mIndexError\u001b[0m                                Traceback (most recent call last)",
      "\u001b[0;32m<ipython-input-150-267c380977ad>\u001b[0m in \u001b[0;36m<module>\u001b[0;34m()\u001b[0m\n\u001b[1;32m      1\u001b[0m \u001b[0;32mimport\u001b[0m \u001b[0mseaborn\u001b[0m \u001b[0;32mas\u001b[0m \u001b[0msns\u001b[0m\u001b[0;34m\u001b[0m\u001b[0m\n\u001b[0;32m----> 2\u001b[0;31m \u001b[0msns\u001b[0m\u001b[0;34m.\u001b[0m\u001b[0mkdeplot\u001b[0m\u001b[0;34m(\u001b[0m\u001b[0my\u001b[0m\u001b[0;34m,\u001b[0m \u001b[0mshade\u001b[0m\u001b[0;34m=\u001b[0m\u001b[0;32mTrue\u001b[0m\u001b[0;34m)\u001b[0m\u001b[0;34m\u001b[0m\u001b[0m\n\u001b[0m",
      "\u001b[0;32m/usr/local/lib/python3.5/site-packages/seaborn/distributions.py\u001b[0m in \u001b[0;36mkdeplot\u001b[0;34m(data, data2, shade, vertical, kernel, bw, gridsize, cut, clip, legend, cumulative, shade_lowest, ax, **kwargs)\u001b[0m\n\u001b[1;32m    586\u001b[0m         \u001b[0mbivariate\u001b[0m \u001b[0;34m=\u001b[0m \u001b[0;32mTrue\u001b[0m\u001b[0;34m\u001b[0m\u001b[0m\n\u001b[1;32m    587\u001b[0m         \u001b[0mx\u001b[0m \u001b[0;34m=\u001b[0m \u001b[0mdata\u001b[0m\u001b[0;34m.\u001b[0m\u001b[0miloc\u001b[0m\u001b[0;34m[\u001b[0m\u001b[0;34m:\u001b[0m\u001b[0;34m,\u001b[0m \u001b[0;36m0\u001b[0m\u001b[0;34m]\u001b[0m\u001b[0;34m.\u001b[0m\u001b[0mvalues\u001b[0m\u001b[0;34m\u001b[0m\u001b[0m\n\u001b[0;32m--> 588\u001b[0;31m         \u001b[0my\u001b[0m \u001b[0;34m=\u001b[0m \u001b[0mdata\u001b[0m\u001b[0;34m.\u001b[0m\u001b[0miloc\u001b[0m\u001b[0;34m[\u001b[0m\u001b[0;34m:\u001b[0m\u001b[0;34m,\u001b[0m \u001b[0;36m1\u001b[0m\u001b[0;34m]\u001b[0m\u001b[0;34m.\u001b[0m\u001b[0mvalues\u001b[0m\u001b[0;34m\u001b[0m\u001b[0m\n\u001b[0m\u001b[1;32m    589\u001b[0m     \u001b[0;32melif\u001b[0m \u001b[0mdata2\u001b[0m \u001b[0;32mis\u001b[0m \u001b[0;32mnot\u001b[0m \u001b[0;32mNone\u001b[0m\u001b[0;34m:\u001b[0m\u001b[0;34m\u001b[0m\u001b[0m\n\u001b[1;32m    590\u001b[0m         \u001b[0mbivariate\u001b[0m \u001b[0;34m=\u001b[0m \u001b[0;32mTrue\u001b[0m\u001b[0;34m\u001b[0m\u001b[0m\n",
      "\u001b[0;32m/usr/local/lib/python3.5/site-packages/pandas/core/indexing.py\u001b[0m in \u001b[0;36m__getitem__\u001b[0;34m(self, key)\u001b[0m\n\u001b[1;32m   1308\u001b[0m \u001b[0;34m\u001b[0m\u001b[0m\n\u001b[1;32m   1309\u001b[0m         \u001b[0;32mif\u001b[0m \u001b[0mtype\u001b[0m\u001b[0;34m(\u001b[0m\u001b[0mkey\u001b[0m\u001b[0;34m)\u001b[0m \u001b[0;32mis\u001b[0m \u001b[0mtuple\u001b[0m\u001b[0;34m:\u001b[0m\u001b[0;34m\u001b[0m\u001b[0m\n\u001b[0;32m-> 1310\u001b[0;31m             \u001b[0;32mreturn\u001b[0m \u001b[0mself\u001b[0m\u001b[0;34m.\u001b[0m\u001b[0m_getitem_tuple\u001b[0m\u001b[0;34m(\u001b[0m\u001b[0mkey\u001b[0m\u001b[0;34m)\u001b[0m\u001b[0;34m\u001b[0m\u001b[0m\n\u001b[0m\u001b[1;32m   1311\u001b[0m         \u001b[0;32melse\u001b[0m\u001b[0;34m:\u001b[0m\u001b[0;34m\u001b[0m\u001b[0m\n\u001b[1;32m   1312\u001b[0m             \u001b[0;32mreturn\u001b[0m \u001b[0mself\u001b[0m\u001b[0;34m.\u001b[0m\u001b[0m_getitem_axis\u001b[0m\u001b[0;34m(\u001b[0m\u001b[0mkey\u001b[0m\u001b[0;34m,\u001b[0m \u001b[0maxis\u001b[0m\u001b[0;34m=\u001b[0m\u001b[0;36m0\u001b[0m\u001b[0;34m)\u001b[0m\u001b[0;34m\u001b[0m\u001b[0m\n",
      "\u001b[0;32m/usr/local/lib/python3.5/site-packages/pandas/core/indexing.py\u001b[0m in \u001b[0;36m_getitem_tuple\u001b[0;34m(self, tup)\u001b[0m\n\u001b[1;32m   1558\u001b[0m     \u001b[0;32mdef\u001b[0m \u001b[0m_getitem_tuple\u001b[0m\u001b[0;34m(\u001b[0m\u001b[0mself\u001b[0m\u001b[0;34m,\u001b[0m \u001b[0mtup\u001b[0m\u001b[0;34m)\u001b[0m\u001b[0;34m:\u001b[0m\u001b[0;34m\u001b[0m\u001b[0m\n\u001b[1;32m   1559\u001b[0m \u001b[0;34m\u001b[0m\u001b[0m\n\u001b[0;32m-> 1560\u001b[0;31m         \u001b[0mself\u001b[0m\u001b[0;34m.\u001b[0m\u001b[0m_has_valid_tuple\u001b[0m\u001b[0;34m(\u001b[0m\u001b[0mtup\u001b[0m\u001b[0;34m)\u001b[0m\u001b[0;34m\u001b[0m\u001b[0m\n\u001b[0m\u001b[1;32m   1561\u001b[0m         \u001b[0;32mtry\u001b[0m\u001b[0;34m:\u001b[0m\u001b[0;34m\u001b[0m\u001b[0m\n\u001b[1;32m   1562\u001b[0m             \u001b[0;32mreturn\u001b[0m \u001b[0mself\u001b[0m\u001b[0;34m.\u001b[0m\u001b[0m_getitem_lowerdim\u001b[0m\u001b[0;34m(\u001b[0m\u001b[0mtup\u001b[0m\u001b[0;34m)\u001b[0m\u001b[0;34m\u001b[0m\u001b[0m\n",
      "\u001b[0;32m/usr/local/lib/python3.5/site-packages/pandas/core/indexing.py\u001b[0m in \u001b[0;36m_has_valid_tuple\u001b[0;34m(self, key)\u001b[0m\n\u001b[1;32m    149\u001b[0m             \u001b[0;32mif\u001b[0m \u001b[0mi\u001b[0m \u001b[0;34m>=\u001b[0m \u001b[0mself\u001b[0m\u001b[0;34m.\u001b[0m\u001b[0mobj\u001b[0m\u001b[0;34m.\u001b[0m\u001b[0mndim\u001b[0m\u001b[0;34m:\u001b[0m\u001b[0;34m\u001b[0m\u001b[0m\n\u001b[1;32m    150\u001b[0m                 \u001b[0;32mraise\u001b[0m \u001b[0mIndexingError\u001b[0m\u001b[0;34m(\u001b[0m\u001b[0;34m'Too many indexers'\u001b[0m\u001b[0;34m)\u001b[0m\u001b[0;34m\u001b[0m\u001b[0m\n\u001b[0;32m--> 151\u001b[0;31m             \u001b[0;32mif\u001b[0m \u001b[0;32mnot\u001b[0m \u001b[0mself\u001b[0m\u001b[0;34m.\u001b[0m\u001b[0m_has_valid_type\u001b[0m\u001b[0;34m(\u001b[0m\u001b[0mk\u001b[0m\u001b[0;34m,\u001b[0m \u001b[0mi\u001b[0m\u001b[0;34m)\u001b[0m\u001b[0;34m:\u001b[0m\u001b[0;34m\u001b[0m\u001b[0m\n\u001b[0m\u001b[1;32m    152\u001b[0m                 raise ValueError(\"Location based indexing can only have [%s] \"\n\u001b[1;32m    153\u001b[0m                                  \"types\" % self._valid_types)\n",
      "\u001b[0;32m/usr/local/lib/python3.5/site-packages/pandas/core/indexing.py\u001b[0m in \u001b[0;36m_has_valid_type\u001b[0;34m(self, key, axis)\u001b[0m\n\u001b[1;32m   1526\u001b[0m             \u001b[0;32mreturn\u001b[0m \u001b[0;32mTrue\u001b[0m\u001b[0;34m\u001b[0m\u001b[0m\n\u001b[1;32m   1527\u001b[0m         \u001b[0;32melif\u001b[0m \u001b[0mis_integer\u001b[0m\u001b[0;34m(\u001b[0m\u001b[0mkey\u001b[0m\u001b[0;34m)\u001b[0m\u001b[0;34m:\u001b[0m\u001b[0;34m\u001b[0m\u001b[0m\n\u001b[0;32m-> 1528\u001b[0;31m             \u001b[0;32mreturn\u001b[0m \u001b[0mself\u001b[0m\u001b[0;34m.\u001b[0m\u001b[0m_is_valid_integer\u001b[0m\u001b[0;34m(\u001b[0m\u001b[0mkey\u001b[0m\u001b[0;34m,\u001b[0m \u001b[0maxis\u001b[0m\u001b[0;34m)\u001b[0m\u001b[0;34m\u001b[0m\u001b[0m\n\u001b[0m\u001b[1;32m   1529\u001b[0m         \u001b[0;32melif\u001b[0m \u001b[0mis_list_like_indexer\u001b[0m\u001b[0;34m(\u001b[0m\u001b[0mkey\u001b[0m\u001b[0;34m)\u001b[0m\u001b[0;34m:\u001b[0m\u001b[0;34m\u001b[0m\u001b[0m\n\u001b[1;32m   1530\u001b[0m             \u001b[0;32mreturn\u001b[0m \u001b[0mself\u001b[0m\u001b[0;34m.\u001b[0m\u001b[0m_is_valid_list_like\u001b[0m\u001b[0;34m(\u001b[0m\u001b[0mkey\u001b[0m\u001b[0;34m,\u001b[0m \u001b[0maxis\u001b[0m\u001b[0;34m)\u001b[0m\u001b[0;34m\u001b[0m\u001b[0m\n",
      "\u001b[0;32m/usr/local/lib/python3.5/site-packages/pandas/core/indexing.py\u001b[0m in \u001b[0;36m_is_valid_integer\u001b[0;34m(self, key, axis)\u001b[0m\n\u001b[1;32m   1540\u001b[0m         \u001b[0ml\u001b[0m \u001b[0;34m=\u001b[0m \u001b[0mlen\u001b[0m\u001b[0;34m(\u001b[0m\u001b[0max\u001b[0m\u001b[0;34m)\u001b[0m\u001b[0;34m\u001b[0m\u001b[0m\n\u001b[1;32m   1541\u001b[0m         \u001b[0;32mif\u001b[0m \u001b[0mkey\u001b[0m \u001b[0;34m>=\u001b[0m \u001b[0ml\u001b[0m \u001b[0;32mor\u001b[0m \u001b[0mkey\u001b[0m \u001b[0;34m<\u001b[0m \u001b[0;34m-\u001b[0m\u001b[0ml\u001b[0m\u001b[0;34m:\u001b[0m\u001b[0;34m\u001b[0m\u001b[0m\n\u001b[0;32m-> 1542\u001b[0;31m             \u001b[0;32mraise\u001b[0m \u001b[0mIndexError\u001b[0m\u001b[0;34m(\u001b[0m\u001b[0;34m\"single positional indexer is out-of-bounds\"\u001b[0m\u001b[0;34m)\u001b[0m\u001b[0;34m\u001b[0m\u001b[0m\n\u001b[0m\u001b[1;32m   1543\u001b[0m         \u001b[0;32mreturn\u001b[0m \u001b[0;32mTrue\u001b[0m\u001b[0;34m\u001b[0m\u001b[0m\n\u001b[1;32m   1544\u001b[0m \u001b[0;34m\u001b[0m\u001b[0m\n",
      "\u001b[0;31mIndexError\u001b[0m: single positional indexer is out-of-bounds"
     ]
    },
    {
     "data": {
      "image/png": "[encoded data removed]",
      "text/plain": [
       "<matplotlib.figure.Figure at 0x10858a550>"
      ]
     },
     "metadata": {},
     "output_type": "display_data"
    }
   ],
   "source": [
    "import seaborn as sns\n",
    "sns.kdeplot(y, shade=True)"
   ]
  },
  {
   "cell_type": "code",
   "execution_count": 151,
   "metadata": {
    "collapsed": false
   },
   "outputs": [
    {
     "data": {
      "text/plain": [
       "0       1428330\n",
       "1            16\n",
       "2          1933\n",
       "3        736560\n",
       "4          3451\n",
       "5         97266\n",
       "6         90184\n",
       "7       1428330\n",
       "8          1933\n",
       "9        736560\n",
       "10         3451\n",
       "11        97266\n",
       "12        90184\n",
       "13      1428330\n",
       "14           16\n",
       "15         1933\n",
       "16       736560\n",
       "17         3451\n",
       "18        97266\n",
       "19        90184\n",
       "20            2\n",
       "21      1428330\n",
       "22           16\n",
       "23         1933\n",
       "24       736560\n",
       "25         3451\n",
       "26        97266\n",
       "27        90184\n",
       "28            2\n",
       "29      1428330\n",
       "         ...   \n",
       "4070      79572\n",
       "4071          2\n",
       "4072    6070987\n",
       "4073     299984\n",
       "4074      26793\n",
       "4075     222520\n",
       "4076       7381\n",
       "4077      91485\n",
       "4078      79572\n",
       "4079    6070987\n",
       "4080     299984\n",
       "4081      26793\n",
       "4082     222520\n",
       "4083       7381\n",
       "4084      91485\n",
       "4085      79572\n",
       "4086    6070987\n",
       "4087     299984\n",
       "4088      26793\n",
       "4089     222520\n",
       "4090       7381\n",
       "4091      91485\n",
       "4092      79572\n",
       "4093    6070987\n",
       "4094     299984\n",
       "4095      26793\n",
       "4096     222520\n",
       "4097       7381\n",
       "4098      91485\n",
       "4099      79572\n",
       "Name: CBS_BK_XSCS, dtype: int64"
      ]
     },
     "execution_count": 151,
     "metadata": {},
     "output_type": "execute_result"
    }
   ],
   "source": [
    "y[\"CBS_BK_XSCS\"]"
   ]
  },
  {
   "cell_type": "code",
   "execution_count": 152,
   "metadata": {
    "collapsed": true
   },
   "outputs": [],
   "source": [
    "import matplotlib.pyplot as plt\n",
    "%matplotlib inline"
   ]
  },
  {
   "cell_type": "code",
   "execution_count": 154,
   "metadata": {
    "collapsed": false
   },
   "outputs": [
    {
     "data": {
      "text/plain": [
       "(array([ 3800.,   170.,    55.,     5.,    35.,    10.,    15.,     0.,\n",
       "            0.,    10.]),\n",
       " array([  1.00000000e+00,   1.16430980e+06,   2.32861860e+06,\n",
       "          3.49292740e+06,   4.65723620e+06,   5.82154500e+06,\n",
       "          6.98585380e+06,   8.15016260e+06,   9.31447140e+06,\n",
       "          1.04787802e+07,   1.16430890e+07]),\n",
       " <a list of 10 Patch objects>)"
      ]
     },
     "execution_count": 154,
     "metadata": {},
     "output_type": "execute_result"
    },
    {
     "data": {
      "image/png": "[encoded data removed]",
      "text/plain": [
       "<matplotlib.figure.Figure at 0x10f536be0>"
      ]
     },
     "metadata": {},
     "output_type": "display_data"
    }
   ],
   "source": [
    "plt.hist(y[\"CBS_BK_XSCS\"])"
   ]
  },
  {
   "cell_type": "code",
   "execution_count": null,
   "metadata": {
    "collapsed": true
   },
   "outputs": [],
   "source": []
  }
 ],
 "metadata": {
  "kernelspec": {
   "display_name": "Python 3",
   "language": "python",
   "name": "python3"
  },
  "language_info": {
   "codemirror_mode": {
    "name": "ipython",
    "version": 3
   },
   "file_extension": ".py",
   "mimetype": "text/x-python",
   "name": "python",
   "nbconvert_exporter": "python",
   "pygments_lexer": "ipython3",
   "version": "3.5.2"
  }
 },
 "nbformat": 4,
 "nbformat_minor": 2
}
